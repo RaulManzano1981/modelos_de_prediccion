{
 "cells": [
  {
   "cell_type": "markdown",
   "id": "dc1cd706",
   "metadata": {},
   "source": [
    "## Modelos de Predicción Perdida y Retención de usuarios en un gimnasio\n",
    "\n",
    "### Introducción\n",
    "\n",
    "Una cadena de gimnasios esta intentando interactuar con sus usuarios a través de datos analiticos.\n",
    "\n",
    "Con estos datos recabados de los usarios se analizarán y se determinaran que factores son los más determinantes que influyen en que el usuario se vaya del gimnasio.\n",
    "\n",
    "Se suministra un archivo con los datos de los usuarios. Con ellos se deben crear estrategias para lograr la retención de los mismos.\n",
    "\n",
    "* Se deberá predecir la probabilidad de pérdida (para el próximo mes) para cada cliente\n",
    "\n",
    "* Elaborar retratos de usuarios típicos: selecciona los grupos más destacados y describe sus características principales\n",
    "\n",
    "* Analizar los factores que más impactan la pérdida\n",
    "\n",
    "* Sacar conclusiones básicas y elaborar recomendaciones para mejorar la atención al cliente:\n",
    "\n",
    "* Identificar a los grupos objetivo\n",
    "\n",
    "* Sugerir medidas para reducir la rotación\n",
    "\n",
    "* Describir cualquier otro patrón que observes con respecto a la interacción con los clientes\n",
    "\n",
    "#### Contenido\n",
    "\n",
    "Carga de librerias\n",
    "\n",
    "Carga de Dtos\n",
    "\n",
    "EDA \n",
    "\n",
    "Construir un modelo para predecir la cancelación de usuarios\n",
    "\n",
    "    Regresión Logistica\n",
    "    Random Forest Classifier\n",
    "\n",
    "Clusters para usuarios\n",
    "\n",
    "Conclusiones y Recomendaciones\n",
    "\n"
   ]
  },
  {
   "cell_type": "markdown",
   "id": "82472ea8",
   "metadata": {},
   "source": [
    "#### Carga de librerias"
   ]
  },
  {
   "cell_type": "code",
   "execution_count": 2,
   "id": "5d544926",
   "metadata": {},
   "outputs": [],
   "source": [
    "import pandas as pd\n",
    "import seaborn as sns\n",
    "import numpy as np\n",
    "from sklearn.preprocessing import StandardScaler\n",
    "from sklearn.model_selection import train_test_split\n",
    "from sklearn.ensemble import RandomForestClassifier\n",
    "import matplotlib.pyplot as plt\n",
    "from sklearn.metrics import mean_absolute_error, mean_squared_error, r2_score\n",
    "from sklearn import linear_model\n",
    "from sklearn.linear_model import LogisticRegression\n",
    "from sklearn.metrics import accuracy_score, precision_score, recall_score\n",
    "from scipy.cluster.hierarchy import dendrogram, linkage\n",
    "from sklearn.cluster import KMeans\n",
    "import mpl_toolkits.axisartist as axisartist"
   ]
  },
  {
   "cell_type": "markdown",
   "id": "591dcddc",
   "metadata": {},
   "source": [
    "#### Carga de datos"
   ]
  },
  {
   "cell_type": "code",
   "execution_count": 3,
   "id": "47537f81",
   "metadata": {},
   "outputs": [],
   "source": [
    "try:\n",
    "    gym_data = pd.read_csv('gym_churn_us.csv')\n",
    "except:\n",
    "    gym_data = pd.read_csv('/datasets/gym_churn_us.csv') "
   ]
  },
  {
   "cell_type": "code",
   "execution_count": 4,
   "id": "fe9e90fb",
   "metadata": {},
   "outputs": [],
   "source": [
    "#gym_data=pd.read_csv('gym_churn_us.csv')"
   ]
  },
  {
   "cell_type": "markdown",
   "id": "ab08ed2d",
   "metadata": {},
   "source": [
    "#### Analisis exploratorio (EDA)"
   ]
  },
  {
   "cell_type": "code",
   "execution_count": 5,
   "id": "00563fec",
   "metadata": {},
   "outputs": [
    {
     "data": {
      "text/html": [
       "<div>\n",
       "<style scoped>\n",
       "    .dataframe tbody tr th:only-of-type {\n",
       "        vertical-align: middle;\n",
       "    }\n",
       "\n",
       "    .dataframe tbody tr th {\n",
       "        vertical-align: top;\n",
       "    }\n",
       "\n",
       "    .dataframe thead th {\n",
       "        text-align: right;\n",
       "    }\n",
       "</style>\n",
       "<table border=\"1\" class=\"dataframe\">\n",
       "  <thead>\n",
       "    <tr style=\"text-align: right;\">\n",
       "      <th></th>\n",
       "      <th>gender</th>\n",
       "      <th>Near_Location</th>\n",
       "      <th>Partner</th>\n",
       "      <th>Promo_friends</th>\n",
       "      <th>Phone</th>\n",
       "      <th>Contract_period</th>\n",
       "      <th>Group_visits</th>\n",
       "      <th>Age</th>\n",
       "      <th>Avg_additional_charges_total</th>\n",
       "      <th>Month_to_end_contract</th>\n",
       "      <th>Lifetime</th>\n",
       "      <th>Avg_class_frequency_total</th>\n",
       "      <th>Avg_class_frequency_current_month</th>\n",
       "      <th>Churn</th>\n",
       "    </tr>\n",
       "  </thead>\n",
       "  <tbody>\n",
       "    <tr>\n",
       "      <th>0</th>\n",
       "      <td>1</td>\n",
       "      <td>1</td>\n",
       "      <td>1</td>\n",
       "      <td>1</td>\n",
       "      <td>0</td>\n",
       "      <td>6</td>\n",
       "      <td>1</td>\n",
       "      <td>29</td>\n",
       "      <td>14.227470</td>\n",
       "      <td>5.0</td>\n",
       "      <td>3</td>\n",
       "      <td>0.020398</td>\n",
       "      <td>0.000000</td>\n",
       "      <td>0</td>\n",
       "    </tr>\n",
       "    <tr>\n",
       "      <th>1</th>\n",
       "      <td>0</td>\n",
       "      <td>1</td>\n",
       "      <td>0</td>\n",
       "      <td>0</td>\n",
       "      <td>1</td>\n",
       "      <td>12</td>\n",
       "      <td>1</td>\n",
       "      <td>31</td>\n",
       "      <td>113.202938</td>\n",
       "      <td>12.0</td>\n",
       "      <td>7</td>\n",
       "      <td>1.922936</td>\n",
       "      <td>1.910244</td>\n",
       "      <td>0</td>\n",
       "    </tr>\n",
       "    <tr>\n",
       "      <th>2</th>\n",
       "      <td>0</td>\n",
       "      <td>1</td>\n",
       "      <td>1</td>\n",
       "      <td>0</td>\n",
       "      <td>1</td>\n",
       "      <td>1</td>\n",
       "      <td>0</td>\n",
       "      <td>28</td>\n",
       "      <td>129.448479</td>\n",
       "      <td>1.0</td>\n",
       "      <td>2</td>\n",
       "      <td>1.859098</td>\n",
       "      <td>1.736502</td>\n",
       "      <td>0</td>\n",
       "    </tr>\n",
       "    <tr>\n",
       "      <th>3</th>\n",
       "      <td>0</td>\n",
       "      <td>1</td>\n",
       "      <td>1</td>\n",
       "      <td>1</td>\n",
       "      <td>1</td>\n",
       "      <td>12</td>\n",
       "      <td>1</td>\n",
       "      <td>33</td>\n",
       "      <td>62.669863</td>\n",
       "      <td>12.0</td>\n",
       "      <td>2</td>\n",
       "      <td>3.205633</td>\n",
       "      <td>3.357215</td>\n",
       "      <td>0</td>\n",
       "    </tr>\n",
       "    <tr>\n",
       "      <th>4</th>\n",
       "      <td>1</td>\n",
       "      <td>1</td>\n",
       "      <td>1</td>\n",
       "      <td>1</td>\n",
       "      <td>1</td>\n",
       "      <td>1</td>\n",
       "      <td>0</td>\n",
       "      <td>26</td>\n",
       "      <td>198.362265</td>\n",
       "      <td>1.0</td>\n",
       "      <td>3</td>\n",
       "      <td>1.113884</td>\n",
       "      <td>1.120078</td>\n",
       "      <td>0</td>\n",
       "    </tr>\n",
       "  </tbody>\n",
       "</table>\n",
       "</div>"
      ],
      "text/plain": [
       "   gender  Near_Location  Partner  Promo_friends  Phone  Contract_period  \\\n",
       "0       1              1        1              1      0                6   \n",
       "1       0              1        0              0      1               12   \n",
       "2       0              1        1              0      1                1   \n",
       "3       0              1        1              1      1               12   \n",
       "4       1              1        1              1      1                1   \n",
       "\n",
       "   Group_visits  Age  Avg_additional_charges_total  Month_to_end_contract  \\\n",
       "0             1   29                     14.227470                    5.0   \n",
       "1             1   31                    113.202938                   12.0   \n",
       "2             0   28                    129.448479                    1.0   \n",
       "3             1   33                     62.669863                   12.0   \n",
       "4             0   26                    198.362265                    1.0   \n",
       "\n",
       "   Lifetime  Avg_class_frequency_total  Avg_class_frequency_current_month  \\\n",
       "0         3                   0.020398                           0.000000   \n",
       "1         7                   1.922936                           1.910244   \n",
       "2         2                   1.859098                           1.736502   \n",
       "3         2                   3.205633                           3.357215   \n",
       "4         3                   1.113884                           1.120078   \n",
       "\n",
       "   Churn  \n",
       "0      0  \n",
       "1      0  \n",
       "2      0  \n",
       "3      0  \n",
       "4      0  "
      ]
     },
     "execution_count": 5,
     "metadata": {},
     "output_type": "execute_result"
    }
   ],
   "source": [
    "gym_data.head()"
   ]
  },
  {
   "cell_type": "code",
   "execution_count": 6,
   "id": "7cb28dc8",
   "metadata": {},
   "outputs": [
    {
     "name": "stdout",
     "output_type": "stream",
     "text": [
      "<class 'pandas.core.frame.DataFrame'>\n",
      "RangeIndex: 4000 entries, 0 to 3999\n",
      "Data columns (total 14 columns):\n",
      " #   Column                             Non-Null Count  Dtype  \n",
      "---  ------                             --------------  -----  \n",
      " 0   gender                             4000 non-null   int64  \n",
      " 1   Near_Location                      4000 non-null   int64  \n",
      " 2   Partner                            4000 non-null   int64  \n",
      " 3   Promo_friends                      4000 non-null   int64  \n",
      " 4   Phone                              4000 non-null   int64  \n",
      " 5   Contract_period                    4000 non-null   int64  \n",
      " 6   Group_visits                       4000 non-null   int64  \n",
      " 7   Age                                4000 non-null   int64  \n",
      " 8   Avg_additional_charges_total       4000 non-null   float64\n",
      " 9   Month_to_end_contract              4000 non-null   float64\n",
      " 10  Lifetime                           4000 non-null   int64  \n",
      " 11  Avg_class_frequency_total          4000 non-null   float64\n",
      " 12  Avg_class_frequency_current_month  4000 non-null   float64\n",
      " 13  Churn                              4000 non-null   int64  \n",
      "dtypes: float64(4), int64(10)\n",
      "memory usage: 437.6 KB\n"
     ]
    }
   ],
   "source": [
    "gym_data.info()"
   ]
  },
  {
   "cell_type": "code",
   "execution_count": 7,
   "id": "02d267de",
   "metadata": {},
   "outputs": [],
   "source": [
    "gym_data.columns=gym_data.columns.str.lower()"
   ]
  },
  {
   "cell_type": "code",
   "execution_count": 8,
   "id": "a940be71",
   "metadata": {},
   "outputs": [
    {
     "data": {
      "text/plain": [
       "0"
      ]
     },
     "execution_count": 8,
     "metadata": {},
     "output_type": "execute_result"
    }
   ],
   "source": [
    "gym_data.duplicated().sum()"
   ]
  },
  {
   "cell_type": "code",
   "execution_count": 9,
   "id": "6e8c81c1",
   "metadata": {},
   "outputs": [
    {
     "data": {
      "text/plain": [
       "gender                               0\n",
       "near_location                        0\n",
       "partner                              0\n",
       "promo_friends                        0\n",
       "phone                                0\n",
       "contract_period                      0\n",
       "group_visits                         0\n",
       "age                                  0\n",
       "avg_additional_charges_total         0\n",
       "month_to_end_contract                0\n",
       "lifetime                             0\n",
       "avg_class_frequency_total            0\n",
       "avg_class_frequency_current_month    0\n",
       "churn                                0\n",
       "dtype: int64"
      ]
     },
     "execution_count": 9,
     "metadata": {},
     "output_type": "execute_result"
    }
   ],
   "source": [
    "gym_data.isnull().sum()"
   ]
  },
  {
   "cell_type": "markdown",
   "id": "bb720437",
   "metadata": {},
   "source": [
    "Comprobamos que no hay valores nulos o duplicados contenidos en el dataframe"
   ]
  },
  {
   "cell_type": "code",
   "execution_count": 10,
   "id": "fdb939cc",
   "metadata": {},
   "outputs": [
    {
     "data": {
      "text/html": [
       "<div>\n",
       "<style scoped>\n",
       "    .dataframe tbody tr th:only-of-type {\n",
       "        vertical-align: middle;\n",
       "    }\n",
       "\n",
       "    .dataframe tbody tr th {\n",
       "        vertical-align: top;\n",
       "    }\n",
       "\n",
       "    .dataframe thead th {\n",
       "        text-align: right;\n",
       "    }\n",
       "</style>\n",
       "<table border=\"1\" class=\"dataframe\">\n",
       "  <thead>\n",
       "    <tr style=\"text-align: right;\">\n",
       "      <th></th>\n",
       "      <th>gender</th>\n",
       "      <th>near_location</th>\n",
       "      <th>partner</th>\n",
       "      <th>promo_friends</th>\n",
       "      <th>phone</th>\n",
       "      <th>contract_period</th>\n",
       "      <th>group_visits</th>\n",
       "      <th>age</th>\n",
       "      <th>avg_additional_charges_total</th>\n",
       "      <th>month_to_end_contract</th>\n",
       "      <th>lifetime</th>\n",
       "      <th>avg_class_frequency_total</th>\n",
       "      <th>avg_class_frequency_current_month</th>\n",
       "      <th>churn</th>\n",
       "    </tr>\n",
       "  </thead>\n",
       "  <tbody>\n",
       "    <tr>\n",
       "      <th>count</th>\n",
       "      <td>4000.000000</td>\n",
       "      <td>4000.000000</td>\n",
       "      <td>4000.000000</td>\n",
       "      <td>4000.000000</td>\n",
       "      <td>4000.000000</td>\n",
       "      <td>4000.000000</td>\n",
       "      <td>4000.000000</td>\n",
       "      <td>4000.000000</td>\n",
       "      <td>4000.000000</td>\n",
       "      <td>4000.000000</td>\n",
       "      <td>4000.000000</td>\n",
       "      <td>4000.000000</td>\n",
       "      <td>4000.000000</td>\n",
       "      <td>4000.000000</td>\n",
       "    </tr>\n",
       "    <tr>\n",
       "      <th>mean</th>\n",
       "      <td>0.510250</td>\n",
       "      <td>0.845250</td>\n",
       "      <td>0.486750</td>\n",
       "      <td>0.308500</td>\n",
       "      <td>0.903500</td>\n",
       "      <td>4.681250</td>\n",
       "      <td>0.412250</td>\n",
       "      <td>29.184250</td>\n",
       "      <td>146.943728</td>\n",
       "      <td>4.322750</td>\n",
       "      <td>3.724750</td>\n",
       "      <td>1.879020</td>\n",
       "      <td>1.767052</td>\n",
       "      <td>0.265250</td>\n",
       "    </tr>\n",
       "    <tr>\n",
       "      <th>std</th>\n",
       "      <td>0.499957</td>\n",
       "      <td>0.361711</td>\n",
       "      <td>0.499887</td>\n",
       "      <td>0.461932</td>\n",
       "      <td>0.295313</td>\n",
       "      <td>4.549706</td>\n",
       "      <td>0.492301</td>\n",
       "      <td>3.258367</td>\n",
       "      <td>96.355602</td>\n",
       "      <td>4.191297</td>\n",
       "      <td>3.749267</td>\n",
       "      <td>0.972245</td>\n",
       "      <td>1.052906</td>\n",
       "      <td>0.441521</td>\n",
       "    </tr>\n",
       "    <tr>\n",
       "      <th>min</th>\n",
       "      <td>0.000000</td>\n",
       "      <td>0.000000</td>\n",
       "      <td>0.000000</td>\n",
       "      <td>0.000000</td>\n",
       "      <td>0.000000</td>\n",
       "      <td>1.000000</td>\n",
       "      <td>0.000000</td>\n",
       "      <td>18.000000</td>\n",
       "      <td>0.148205</td>\n",
       "      <td>1.000000</td>\n",
       "      <td>0.000000</td>\n",
       "      <td>0.000000</td>\n",
       "      <td>0.000000</td>\n",
       "      <td>0.000000</td>\n",
       "    </tr>\n",
       "    <tr>\n",
       "      <th>25%</th>\n",
       "      <td>0.000000</td>\n",
       "      <td>1.000000</td>\n",
       "      <td>0.000000</td>\n",
       "      <td>0.000000</td>\n",
       "      <td>1.000000</td>\n",
       "      <td>1.000000</td>\n",
       "      <td>0.000000</td>\n",
       "      <td>27.000000</td>\n",
       "      <td>68.868830</td>\n",
       "      <td>1.000000</td>\n",
       "      <td>1.000000</td>\n",
       "      <td>1.180875</td>\n",
       "      <td>0.963003</td>\n",
       "      <td>0.000000</td>\n",
       "    </tr>\n",
       "    <tr>\n",
       "      <th>50%</th>\n",
       "      <td>1.000000</td>\n",
       "      <td>1.000000</td>\n",
       "      <td>0.000000</td>\n",
       "      <td>0.000000</td>\n",
       "      <td>1.000000</td>\n",
       "      <td>1.000000</td>\n",
       "      <td>0.000000</td>\n",
       "      <td>29.000000</td>\n",
       "      <td>136.220159</td>\n",
       "      <td>1.000000</td>\n",
       "      <td>3.000000</td>\n",
       "      <td>1.832768</td>\n",
       "      <td>1.719574</td>\n",
       "      <td>0.000000</td>\n",
       "    </tr>\n",
       "    <tr>\n",
       "      <th>75%</th>\n",
       "      <td>1.000000</td>\n",
       "      <td>1.000000</td>\n",
       "      <td>1.000000</td>\n",
       "      <td>1.000000</td>\n",
       "      <td>1.000000</td>\n",
       "      <td>6.000000</td>\n",
       "      <td>1.000000</td>\n",
       "      <td>31.000000</td>\n",
       "      <td>210.949625</td>\n",
       "      <td>6.000000</td>\n",
       "      <td>5.000000</td>\n",
       "      <td>2.536078</td>\n",
       "      <td>2.510336</td>\n",
       "      <td>1.000000</td>\n",
       "    </tr>\n",
       "    <tr>\n",
       "      <th>max</th>\n",
       "      <td>1.000000</td>\n",
       "      <td>1.000000</td>\n",
       "      <td>1.000000</td>\n",
       "      <td>1.000000</td>\n",
       "      <td>1.000000</td>\n",
       "      <td>12.000000</td>\n",
       "      <td>1.000000</td>\n",
       "      <td>41.000000</td>\n",
       "      <td>552.590740</td>\n",
       "      <td>12.000000</td>\n",
       "      <td>31.000000</td>\n",
       "      <td>6.023668</td>\n",
       "      <td>6.146783</td>\n",
       "      <td>1.000000</td>\n",
       "    </tr>\n",
       "  </tbody>\n",
       "</table>\n",
       "</div>"
      ],
      "text/plain": [
       "            gender  near_location      partner  promo_friends        phone  \\\n",
       "count  4000.000000    4000.000000  4000.000000    4000.000000  4000.000000   \n",
       "mean      0.510250       0.845250     0.486750       0.308500     0.903500   \n",
       "std       0.499957       0.361711     0.499887       0.461932     0.295313   \n",
       "min       0.000000       0.000000     0.000000       0.000000     0.000000   \n",
       "25%       0.000000       1.000000     0.000000       0.000000     1.000000   \n",
       "50%       1.000000       1.000000     0.000000       0.000000     1.000000   \n",
       "75%       1.000000       1.000000     1.000000       1.000000     1.000000   \n",
       "max       1.000000       1.000000     1.000000       1.000000     1.000000   \n",
       "\n",
       "       contract_period  group_visits          age  \\\n",
       "count      4000.000000   4000.000000  4000.000000   \n",
       "mean          4.681250      0.412250    29.184250   \n",
       "std           4.549706      0.492301     3.258367   \n",
       "min           1.000000      0.000000    18.000000   \n",
       "25%           1.000000      0.000000    27.000000   \n",
       "50%           1.000000      0.000000    29.000000   \n",
       "75%           6.000000      1.000000    31.000000   \n",
       "max          12.000000      1.000000    41.000000   \n",
       "\n",
       "       avg_additional_charges_total  month_to_end_contract     lifetime  \\\n",
       "count                   4000.000000            4000.000000  4000.000000   \n",
       "mean                     146.943728               4.322750     3.724750   \n",
       "std                       96.355602               4.191297     3.749267   \n",
       "min                        0.148205               1.000000     0.000000   \n",
       "25%                       68.868830               1.000000     1.000000   \n",
       "50%                      136.220159               1.000000     3.000000   \n",
       "75%                      210.949625               6.000000     5.000000   \n",
       "max                      552.590740              12.000000    31.000000   \n",
       "\n",
       "       avg_class_frequency_total  avg_class_frequency_current_month  \\\n",
       "count                4000.000000                        4000.000000   \n",
       "mean                    1.879020                           1.767052   \n",
       "std                     0.972245                           1.052906   \n",
       "min                     0.000000                           0.000000   \n",
       "25%                     1.180875                           0.963003   \n",
       "50%                     1.832768                           1.719574   \n",
       "75%                     2.536078                           2.510336   \n",
       "max                     6.023668                           6.146783   \n",
       "\n",
       "             churn  \n",
       "count  4000.000000  \n",
       "mean      0.265250  \n",
       "std       0.441521  \n",
       "min       0.000000  \n",
       "25%       0.000000  \n",
       "50%       0.000000  \n",
       "75%       1.000000  \n",
       "max       1.000000  "
      ]
     },
     "execution_count": 10,
     "metadata": {},
     "output_type": "execute_result"
    }
   ],
   "source": [
    "gym_data.describe()"
   ]
  },
  {
   "cell_type": "code",
   "execution_count": 11,
   "id": "0c7e6c17",
   "metadata": {
    "scrolled": true
   },
   "outputs": [
    {
     "data": {
      "text/html": [
       "<div>\n",
       "<style scoped>\n",
       "    .dataframe tbody tr th:only-of-type {\n",
       "        vertical-align: middle;\n",
       "    }\n",
       "\n",
       "    .dataframe tbody tr th {\n",
       "        vertical-align: top;\n",
       "    }\n",
       "\n",
       "    .dataframe thead tr th {\n",
       "        text-align: left;\n",
       "    }\n",
       "\n",
       "    .dataframe thead tr:last-of-type th {\n",
       "        text-align: right;\n",
       "    }\n",
       "</style>\n",
       "<table border=\"1\" class=\"dataframe\">\n",
       "  <thead>\n",
       "    <tr>\n",
       "      <th></th>\n",
       "      <th>gender</th>\n",
       "      <th>near_location</th>\n",
       "      <th>partner</th>\n",
       "      <th>promo_friends</th>\n",
       "      <th>phone</th>\n",
       "      <th>contract_period</th>\n",
       "      <th>group_visits</th>\n",
       "      <th>age</th>\n",
       "      <th>avg_additional_charges_total</th>\n",
       "      <th>month_to_end_contract</th>\n",
       "      <th>lifetime</th>\n",
       "      <th>avg_class_frequency_total</th>\n",
       "      <th>avg_class_frequency_current_month</th>\n",
       "    </tr>\n",
       "    <tr>\n",
       "      <th></th>\n",
       "      <th>mean</th>\n",
       "      <th>mean</th>\n",
       "      <th>mean</th>\n",
       "      <th>mean</th>\n",
       "      <th>mean</th>\n",
       "      <th>mean</th>\n",
       "      <th>mean</th>\n",
       "      <th>mean</th>\n",
       "      <th>mean</th>\n",
       "      <th>mean</th>\n",
       "      <th>mean</th>\n",
       "      <th>mean</th>\n",
       "      <th>mean</th>\n",
       "    </tr>\n",
       "    <tr>\n",
       "      <th>churn</th>\n",
       "      <th></th>\n",
       "      <th></th>\n",
       "      <th></th>\n",
       "      <th></th>\n",
       "      <th></th>\n",
       "      <th></th>\n",
       "      <th></th>\n",
       "      <th></th>\n",
       "      <th></th>\n",
       "      <th></th>\n",
       "      <th></th>\n",
       "      <th></th>\n",
       "      <th></th>\n",
       "    </tr>\n",
       "  </thead>\n",
       "  <tbody>\n",
       "    <tr>\n",
       "      <th>0</th>\n",
       "      <td>0.510037</td>\n",
       "      <td>0.873086</td>\n",
       "      <td>0.534195</td>\n",
       "      <td>0.353522</td>\n",
       "      <td>0.903709</td>\n",
       "      <td>5.747193</td>\n",
       "      <td>0.464103</td>\n",
       "      <td>29.976523</td>\n",
       "      <td>158.445715</td>\n",
       "      <td>5.283089</td>\n",
       "      <td>4.711807</td>\n",
       "      <td>2.024876</td>\n",
       "      <td>2.027882</td>\n",
       "    </tr>\n",
       "    <tr>\n",
       "      <th>1</th>\n",
       "      <td>0.510839</td>\n",
       "      <td>0.768143</td>\n",
       "      <td>0.355325</td>\n",
       "      <td>0.183789</td>\n",
       "      <td>0.902922</td>\n",
       "      <td>1.728558</td>\n",
       "      <td>0.268615</td>\n",
       "      <td>26.989632</td>\n",
       "      <td>115.082899</td>\n",
       "      <td>1.662582</td>\n",
       "      <td>0.990575</td>\n",
       "      <td>1.474995</td>\n",
       "      <td>1.044546</td>\n",
       "    </tr>\n",
       "  </tbody>\n",
       "</table>\n",
       "</div>"
      ],
      "text/plain": [
       "         gender near_location   partner promo_friends     phone  \\\n",
       "           mean          mean      mean          mean      mean   \n",
       "churn                                                             \n",
       "0      0.510037      0.873086  0.534195      0.353522  0.903709   \n",
       "1      0.510839      0.768143  0.355325      0.183789  0.902922   \n",
       "\n",
       "      contract_period group_visits        age avg_additional_charges_total  \\\n",
       "                 mean         mean       mean                         mean   \n",
       "churn                                                                        \n",
       "0            5.747193     0.464103  29.976523                   158.445715   \n",
       "1            1.728558     0.268615  26.989632                   115.082899   \n",
       "\n",
       "      month_to_end_contract  lifetime avg_class_frequency_total  \\\n",
       "                       mean      mean                      mean   \n",
       "churn                                                             \n",
       "0                  5.283089  4.711807                  2.024876   \n",
       "1                  1.662582  0.990575                  1.474995   \n",
       "\n",
       "      avg_class_frequency_current_month  \n",
       "                                   mean  \n",
       "churn                                    \n",
       "0                              2.027882  \n",
       "1                              1.044546  "
      ]
     },
     "execution_count": 11,
     "metadata": {},
     "output_type": "execute_result"
    }
   ],
   "source": [
    "#Observa los valores medios de las características en dos grupos: para los que se fueron (cancelación) y \n",
    "#para los que se quedaron\n",
    "gym_group_by_churn=gym_data.groupby('churn').agg({'mean'})\n",
    "gym_group_by_churn"
   ]
  },
  {
   "cell_type": "markdown",
   "id": "f01cd58a",
   "metadata": {},
   "source": [
    "Se trazarán histogramas de barras y distribuciones de características para aquellos que se fueron (cancelación) y para los que se quedaron."
   ]
  },
  {
   "cell_type": "code",
   "execution_count": 12,
   "id": "7a9cbd42",
   "metadata": {},
   "outputs": [],
   "source": [
    "#Se creará la función grahp_by_categorical para realizar las comparaciones entre las variables\n",
    "def graph_by_categorical(df, var_for_grouped, categorical):\n",
    "    group=df.groupby(var_for_grouped)[categorical].value_counts(normalize=True)\n",
    "    group.name='frecuencia'\n",
    "    group=group.to_frame().reset_index()\n",
    "    \n",
    "    #Crear las graficas\n",
    "    sns.barplot(data=group, x=var_for_grouped, y='frecuencia', hue=categorical)\n",
    "    plt.title('Gráfico ' + var_for_grouped + ' vs ' + categorical)\n",
    "    "
   ]
  },
  {
   "cell_type": "code",
   "execution_count": 13,
   "id": "c49fde83",
   "metadata": {},
   "outputs": [
    {
     "data": {
      "image/png": "[encoded data removed]",
      "text/plain": [
       "<Figure size 432x288 with 1 Axes>"
      ]
     },
     "metadata": {
      "needs_background": "light"
     },
     "output_type": "display_data"
    }
   ],
   "source": [
    "graph_by_categorical(gym_data, 'churn', 'gender')"
   ]
  },
  {
   "cell_type": "markdown",
   "id": "faa40009",
   "metadata": {},
   "source": [
    "Se observa en el grafico que para ambos generos es muy similar la distribución de personas que se quedan y de los que se van."
   ]
  },
  {
   "cell_type": "code",
   "execution_count": 14,
   "id": "faa2485c",
   "metadata": {},
   "outputs": [
    {
     "data": {
      "image/png": "[encoded data removed]",
      "text/plain": [
       "<Figure size 432x288 with 1 Axes>"
      ]
     },
     "metadata": {
      "needs_background": "light"
     },
     "output_type": "display_data"
    }
   ],
   "source": [
    "graph_by_categorical(gym_data, 'age', 'churn')"
   ]
  },
  {
   "cell_type": "markdown",
   "id": "16cb757a",
   "metadata": {},
   "source": [
    "La grafica muestra que a medida que aumenta la edad mayor número de personas permanecen en el gimnasio, mientras que a edades más tempranas la fuga de clientes tiene mayor frecuencia"
   ]
  },
  {
   "cell_type": "code",
   "execution_count": 15,
   "id": "b1eae2d9",
   "metadata": {},
   "outputs": [
    {
     "data": {
      "image/png": "[encoded data removed]",
      "text/plain": [
       "<Figure size 432x288 with 1 Axes>"
      ]
     },
     "metadata": {
      "needs_background": "light"
     },
     "output_type": "display_data"
    }
   ],
   "source": [
    "graph_by_categorical(gym_data, 'churn', 'near_location')"
   ]
  },
  {
   "cell_type": "markdown",
   "id": "5abe3fd7",
   "metadata": {},
   "source": [
    "Para los clientes que están lejos del gimnasio más del 70% se han ido del mismo, mientras que los clientes que viven lejos se han mantenido al rededor del 10%. Las personas que viven cerca del gimnasio tienen baja asistencia alrededor del 10% y salida por arriba del 20%."
   ]
  },
  {
   "cell_type": "code",
   "execution_count": 16,
   "id": "35644685",
   "metadata": {},
   "outputs": [
    {
     "data": {
      "image/png": "[encoded data removed]",
      "text/plain": [
       "<Figure size 432x288 with 1 Axes>"
      ]
     },
     "metadata": {
      "needs_background": "light"
     },
     "output_type": "display_data"
    }
   ],
   "source": [
    "graph_by_categorical(gym_data, 'churn', 'partner')"
   ]
  },
  {
   "cell_type": "markdown",
   "id": "ef16b034",
   "metadata": {},
   "source": [
    "De los usuarios del gimnasio se observa que más del 50% utilizó patrocinante, de los usuarios que cancelaron casi el 35% utilizó un patrocinador"
   ]
  },
  {
   "cell_type": "code",
   "execution_count": 17,
   "id": "24b7ced7",
   "metadata": {},
   "outputs": [
    {
     "data": {
      "image/png": "[encoded data removed]",
      "text/plain": [
       "<Figure size 432x288 with 1 Axes>"
      ]
     },
     "metadata": {
      "needs_background": "light"
     },
     "output_type": "display_data"
    }
   ],
   "source": [
    "graph_by_categorical(gym_data, 'churn', 'promo_friends')"
   ]
  },
  {
   "cell_type": "markdown",
   "id": "6e944333",
   "metadata": {},
   "source": [
    "De las personas que se quedan alrededor del 65% de las personas no utilizarón una promoción de un amigo, de los usuarios del gimnasio que se van poco más del 80% no utilizó una promoción de un amigo"
   ]
  },
  {
   "cell_type": "code",
   "execution_count": 18,
   "id": "4cbabb60",
   "metadata": {},
   "outputs": [
    {
     "data": {
      "image/png": "[encoded data removed]",
      "text/plain": [
       "<Figure size 432x288 with 1 Axes>"
      ]
     },
     "metadata": {
      "needs_background": "light"
     },
     "output_type": "display_data"
    }
   ],
   "source": [
    "graph_by_categorical(gym_data, 'churn', 'group_visits')"
   ]
  },
  {
   "cell_type": "markdown",
   "id": "97b5a65c",
   "metadata": {},
   "source": [
    "Se puede observar que más del 70% de los usuarios que no participaron en sesiones grupales cancelaron su suscripción"
   ]
  },
  {
   "cell_type": "code",
   "execution_count": 19,
   "id": "eeafee25",
   "metadata": {},
   "outputs": [
    {
     "data": {
      "image/png": "[encoded data removed]",
      "text/plain": [
       "<Figure size 432x288 with 1 Axes>"
      ]
     },
     "metadata": {
      "needs_background": "light"
     },
     "output_type": "display_data"
    }
   ],
   "source": [
    "graph_by_categorical(gym_data, 'contract_period', 'churn')"
   ]
  },
  {
   "cell_type": "markdown",
   "id": "e20e1425",
   "metadata": {},
   "source": [
    "Se observa en la grafica que mientras mayor es el periodo de contrato el número de usuarios que permanece en el gimnasio es mayor, vemos que los contratos a 12 meses se matuvieron los usuarios por arriba del 90%."
   ]
  },
  {
   "cell_type": "code",
   "execution_count": 20,
   "id": "dabd1aec",
   "metadata": {},
   "outputs": [
    {
     "data": {
      "image/png": "[encoded data removed]",
      "text/plain": [
       "<Figure size 432x288 with 1 Axes>"
      ]
     },
     "metadata": {
      "needs_background": "light"
     },
     "output_type": "display_data"
    }
   ],
   "source": [
    "graph_by_categorical(gym_data, 'lifetime', 'churn')"
   ]
  },
  {
   "cell_type": "markdown",
   "id": "13f4a601",
   "metadata": {},
   "source": [
    "Se puede observar que poco más del 80% de los usuarios cancelaron la suscripción sin asistir al gimnasio, seguidamente se puede desglosar del gráfico que a medida que los usuarios pasan más meses en el gimnasio el porcentaje de cancelación disminuye."
   ]
  },
  {
   "cell_type": "code",
   "execution_count": 21,
   "id": "4202a136",
   "metadata": {},
   "outputs": [
    {
     "data": {
      "image/png": "[encoded data removed]",
      "text/plain": [
       "<Figure size 432x288 with 1 Axes>"
      ]
     },
     "metadata": {
      "needs_background": "light"
     },
     "output_type": "display_data"
    }
   ],
   "source": [
    "graph_by_categorical(gym_data, 'month_to_end_contract', 'churn')"
   ]
  },
  {
   "cell_type": "markdown",
   "id": "25909c09",
   "metadata": {},
   "source": [
    "Se observa en el gráfico que mientras mayor sea el tiempo de duración de contrato mayor es la permanecia de los usuarios en el gimnasio."
   ]
  },
  {
   "cell_type": "markdown",
   "id": "e62d2909",
   "metadata": {},
   "source": [
    "Para hacer las distribuciones para las columnas cuantitativas se realizarán histogramas"
   ]
  },
  {
   "cell_type": "code",
   "execution_count": 22,
   "id": "3fa53e83",
   "metadata": {},
   "outputs": [],
   "source": [
    "#División de los datos en dos partes los que tienen churn=0 y los que tienen churn=1\n",
    "churn_0=gym_data.query('churn==0')\n",
    "churn_1=gym_data.query('churn==1')"
   ]
  },
  {
   "cell_type": "code",
   "execution_count": 23,
   "id": "a7aa4bf2",
   "metadata": {},
   "outputs": [
    {
     "data": {
      "image/png": "[encoded data removed]",
      "text/plain": [
       "<Figure size 576x432 with 1 Axes>"
      ]
     },
     "metadata": {
      "needs_background": "light"
     },
     "output_type": "display_data"
    }
   ],
   "source": [
    "#grafica avg_additional_charges_total\n",
    "f,ax=plt.subplots(figsize=(8,6))\n",
    "figure1=sns.histplot(churn_0['avg_additional_charges_total'],color='blue',label='churn=0')\n",
    "figure2=sns.histplot(churn_1['avg_additional_charges_total'],color='green',label='churn=1')\n",
    "plt.title('Gráfico de distribución para avg_additional_charges_total')\n",
    "plt.legend(loc='best')\n",
    "plt.show()"
   ]
  },
  {
   "cell_type": "code",
   "execution_count": 24,
   "id": "d52402a1",
   "metadata": {},
   "outputs": [
    {
     "data": {
      "image/png": "[encoded data removed]",
      "text/plain": [
       "<Figure size 576x432 with 1 Axes>"
      ]
     },
     "metadata": {
      "needs_background": "light"
     },
     "output_type": "display_data"
    }
   ],
   "source": [
    "#grafica avg_class_frequency_total\n",
    "f,ax=plt.subplots(figsize=(8,6))\n",
    "figure1=sns.histplot(churn_0['avg_class_frequency_total'],color='blue',label='churn=0')\n",
    "figure2=sns.histplot(churn_1['avg_class_frequency_total'],color='red',label='churn=1')\n",
    "plt.title('Gráfico de distribución para avg_class_frequency_total')\n",
    "plt.legend(loc='best')\n",
    "plt.show()"
   ]
  },
  {
   "cell_type": "code",
   "execution_count": 25,
   "id": "d0986147",
   "metadata": {},
   "outputs": [
    {
     "data": {
      "image/png": "[encoded data removed]",
      "text/plain": [
       "<Figure size 576x432 with 1 Axes>"
      ]
     },
     "metadata": {
      "needs_background": "light"
     },
     "output_type": "display_data"
    }
   ],
   "source": [
    "#grafica avg_class_frequency_current_month\n",
    "f,ax=plt.subplots(figsize=(8,6))\n",
    "figure1=sns.histplot(churn_0['avg_class_frequency_current_month'],color='blue',label='churn=0')\n",
    "figure2=sns.histplot(churn_1['avg_class_frequency_current_month'],color='yellow',label='churn=1')\n",
    "plt.title('Gráfico de distribución para avg_class_frequency_current_month')\n",
    "plt.legend(loc='best')\n",
    "plt.show()"
   ]
  },
  {
   "cell_type": "markdown",
   "id": "0c2c34bf",
   "metadata": {},
   "source": [
    "Matriz de correlación entre las variables"
   ]
  },
  {
   "cell_type": "code",
   "execution_count": 26,
   "id": "2cf720ae",
   "metadata": {
    "scrolled": true
   },
   "outputs": [
    {
     "data": {
      "text/html": [
       "<style  type=\"text/css\" >\n",
       "#T_d7683_row0_col0,#T_d7683_row1_col1,#T_d7683_row2_col2,#T_d7683_row3_col3,#T_d7683_row4_col4,#T_d7683_row5_col5,#T_d7683_row6_col6,#T_d7683_row7_col7,#T_d7683_row8_col8,#T_d7683_row9_col9,#T_d7683_row10_col10,#T_d7683_row11_col11,#T_d7683_row12_col12,#T_d7683_row13_col13{\n",
       "            background-color:  #b40426;\n",
       "            color:  #f1f1f1;\n",
       "        }#T_d7683_row0_col1{\n",
       "            background-color:  #5f7fe8;\n",
       "            color:  #000000;\n",
       "        }#T_d7683_row0_col2{\n",
       "            background-color:  #6282ea;\n",
       "            color:  #000000;\n",
       "        }#T_d7683_row0_col3{\n",
       "            background-color:  #6485ec;\n",
       "            color:  #000000;\n",
       "        }#T_d7683_row0_col4,#T_d7683_row5_col0,#T_d7683_row5_col4,#T_d7683_row6_col4,#T_d7683_row9_col0,#T_d7683_row13_col0{\n",
       "            background-color:  #3d50c3;\n",
       "            color:  #f1f1f1;\n",
       "        }#T_d7683_row0_col5,#T_d7683_row1_col6,#T_d7683_row4_col7{\n",
       "            background-color:  #97b8ff;\n",
       "            color:  #000000;\n",
       "        }#T_d7683_row0_col6,#T_d7683_row7_col1,#T_d7683_row8_col13{\n",
       "            background-color:  #6f92f3;\n",
       "            color:  #000000;\n",
       "        }#T_d7683_row0_col7,#T_d7683_row0_col12,#T_d7683_row3_col1{\n",
       "            background-color:  #9ebeff;\n",
       "            color:  #000000;\n",
       "        }#T_d7683_row0_col8,#T_d7683_row11_col2{\n",
       "            background-color:  #6c8ff1;\n",
       "            color:  #000000;\n",
       "        }#T_d7683_row0_col9,#T_d7683_row4_col5,#T_d7683_row5_col11{\n",
       "            background-color:  #96b7ff;\n",
       "            color:  #000000;\n",
       "        }#T_d7683_row0_col10{\n",
       "            background-color:  #a3c2fe;\n",
       "            color:  #000000;\n",
       "        }#T_d7683_row0_col11,#T_d7683_row10_col6,#T_d7683_row12_col6{\n",
       "            background-color:  #80a3fa;\n",
       "            color:  #000000;\n",
       "        }#T_d7683_row0_col13{\n",
       "            background-color:  #a1c0ff;\n",
       "            color:  #000000;\n",
       "        }#T_d7683_row1_col0,#T_d7683_row12_col0,#T_d7683_row12_col13,#T_d7683_row13_col4{\n",
       "            background-color:  #3f53c6;\n",
       "            color:  #f1f1f1;\n",
       "        }#T_d7683_row1_col2,#T_d7683_row11_col13{\n",
       "            background-color:  #6384eb;\n",
       "            color:  #000000;\n",
       "        }#T_d7683_row1_col3,#T_d7683_row2_col7,#T_d7683_row2_col12,#T_d7683_row3_col7{\n",
       "            background-color:  #a6c4fe;\n",
       "            color:  #000000;\n",
       "        }#T_d7683_row1_col4,#T_d7683_row2_col0,#T_d7683_row4_col0,#T_d7683_row8_col0,#T_d7683_row10_col4,#T_d7683_row10_col13,#T_d7683_row13_col1,#T_d7683_row13_col2,#T_d7683_row13_col3,#T_d7683_row13_col5,#T_d7683_row13_col6,#T_d7683_row13_col7,#T_d7683_row13_col8,#T_d7683_row13_col9,#T_d7683_row13_col10,#T_d7683_row13_col11,#T_d7683_row13_col12{\n",
       "            background-color:  #3b4cc0;\n",
       "            color:  #f1f1f1;\n",
       "        }#T_d7683_row1_col5{\n",
       "            background-color:  #bcd2f7;\n",
       "            color:  #000000;\n",
       "        }#T_d7683_row1_col7,#T_d7683_row3_col12{\n",
       "            background-color:  #a9c6fd;\n",
       "            color:  #000000;\n",
       "        }#T_d7683_row1_col8,#T_d7683_row10_col3,#T_d7683_row11_col8{\n",
       "            background-color:  #7b9ff9;\n",
       "            color:  #000000;\n",
       "        }#T_d7683_row1_col9,#T_d7683_row7_col5,#T_d7683_row11_col10{\n",
       "            background-color:  #bad0f8;\n",
       "            color:  #000000;\n",
       "        }#T_d7683_row1_col10,#T_d7683_row3_col10{\n",
       "            background-color:  #b1cbfc;\n",
       "            color:  #000000;\n",
       "        }#T_d7683_row1_col11,#T_d7683_row7_col8,#T_d7683_row10_col8,#T_d7683_row12_col8{\n",
       "            background-color:  #86a9fc;\n",
       "            color:  #000000;\n",
       "        }#T_d7683_row1_col12,#T_d7683_row11_col9{\n",
       "            background-color:  #abc8fd;\n",
       "            color:  #000000;\n",
       "        }#T_d7683_row1_col13,#T_d7683_row7_col6{\n",
       "            background-color:  #81a4fb;\n",
       "            color:  #000000;\n",
       "        }#T_d7683_row2_col1{\n",
       "            background-color:  #5b7ae5;\n",
       "            color:  #000000;\n",
       "        }#T_d7683_row2_col3{\n",
       "            background-color:  #e4d9d2;\n",
       "            color:  #000000;\n",
       "        }#T_d7683_row2_col4,#T_d7683_row6_col0,#T_d7683_row8_col4{\n",
       "            background-color:  #4358cb;\n",
       "            color:  #f1f1f1;\n",
       "        }#T_d7683_row2_col5{\n",
       "            background-color:  #dddcdc;\n",
       "            color:  #000000;\n",
       "        }#T_d7683_row2_col6,#T_d7683_row8_col3,#T_d7683_row12_col1{\n",
       "            background-color:  #7093f3;\n",
       "            color:  #000000;\n",
       "        }#T_d7683_row2_col8,#T_d7683_row12_col3{\n",
       "            background-color:  #7699f6;\n",
       "            color:  #000000;\n",
       "        }#T_d7683_row2_col9{\n",
       "            background-color:  #dadce0;\n",
       "            color:  #000000;\n",
       "        }#T_d7683_row2_col10,#T_d7683_row6_col7,#T_d7683_row6_col12,#T_d7683_row8_col7,#T_d7683_row9_col3{\n",
       "            background-color:  #aec9fc;\n",
       "            color:  #000000;\n",
       "        }#T_d7683_row2_col11,#T_d7683_row3_col11{\n",
       "            background-color:  #82a6fb;\n",
       "            color:  #000000;\n",
       "        }#T_d7683_row2_col13,#T_d7683_row3_col13,#T_d7683_row6_col8{\n",
       "            background-color:  #799cf8;\n",
       "            color:  #000000;\n",
       "        }#T_d7683_row3_col0,#T_d7683_row7_col4,#T_d7683_row9_col4{\n",
       "            background-color:  #3c4ec2;\n",
       "            color:  #f1f1f1;\n",
       "        }#T_d7683_row3_col2{\n",
       "            background-color:  #e3d9d3;\n",
       "            color:  #000000;\n",
       "        }#T_d7683_row3_col4,#T_d7683_row7_col13{\n",
       "            background-color:  #4055c8;\n",
       "            color:  #f1f1f1;\n",
       "        }#T_d7683_row3_col5{\n",
       "            background-color:  #d1dae9;\n",
       "            color:  #000000;\n",
       "        }#T_d7683_row3_col6,#T_d7683_row6_col1{\n",
       "            background-color:  #8db0fe;\n",
       "            color:  #000000;\n",
       "        }#T_d7683_row3_col8,#T_d7683_row11_col6{\n",
       "            background-color:  #7a9df8;\n",
       "            color:  #000000;\n",
       "        }#T_d7683_row3_col9{\n",
       "            background-color:  #cfdaea;\n",
       "            color:  #000000;\n",
       "        }#T_d7683_row4_col1{\n",
       "            background-color:  #5977e3;\n",
       "            color:  #000000;\n",
       "        }#T_d7683_row4_col2{\n",
       "            background-color:  #688aef;\n",
       "            color:  #000000;\n",
       "        }#T_d7683_row4_col3{\n",
       "            background-color:  #6788ee;\n",
       "            color:  #000000;\n",
       "        }#T_d7683_row4_col6{\n",
       "            background-color:  #6687ed;\n",
       "            color:  #000000;\n",
       "        }#T_d7683_row4_col8,#T_d7683_row12_col2{\n",
       "            background-color:  #7295f4;\n",
       "            color:  #000000;\n",
       "        }#T_d7683_row4_col9,#T_d7683_row9_col11{\n",
       "            background-color:  #93b5fe;\n",
       "            color:  #000000;\n",
       "        }#T_d7683_row4_col10,#T_d7683_row10_col11{\n",
       "            background-color:  #9bbcff;\n",
       "            color:  #000000;\n",
       "        }#T_d7683_row4_col11{\n",
       "            background-color:  #7da0f9;\n",
       "            color:  #000000;\n",
       "        }#T_d7683_row4_col12,#T_d7683_row4_col13{\n",
       "            background-color:  #9fbfff;\n",
       "            color:  #000000;\n",
       "        }#T_d7683_row5_col1{\n",
       "            background-color:  #8caffe;\n",
       "            color:  #000000;\n",
       "        }#T_d7683_row5_col2{\n",
       "            background-color:  #c0d4f5;\n",
       "            color:  #000000;\n",
       "        }#T_d7683_row5_col3,#T_d7683_row8_col12,#T_d7683_row11_col5{\n",
       "            background-color:  #afcafc;\n",
       "            color:  #000000;\n",
       "        }#T_d7683_row5_col6,#T_d7683_row7_col11{\n",
       "            background-color:  #9dbdff;\n",
       "            color:  #000000;\n",
       "        }#T_d7683_row5_col7,#T_d7683_row9_col7,#T_d7683_row12_col9{\n",
       "            background-color:  #bbd1f8;\n",
       "            color:  #000000;\n",
       "        }#T_d7683_row5_col8,#T_d7683_row9_col8{\n",
       "            background-color:  #90b2fe;\n",
       "            color:  #000000;\n",
       "        }#T_d7683_row5_col9,#T_d7683_row9_col5{\n",
       "            background-color:  #ba162b;\n",
       "            color:  #f1f1f1;\n",
       "        }#T_d7683_row5_col10{\n",
       "            background-color:  #c7d7f0;\n",
       "            color:  #000000;\n",
       "        }#T_d7683_row5_col12,#T_d7683_row6_col5,#T_d7683_row10_col5,#T_d7683_row10_col7{\n",
       "            background-color:  #c1d4f4;\n",
       "            color:  #000000;\n",
       "        }#T_d7683_row5_col13,#T_d7683_row12_col4{\n",
       "            background-color:  #445acc;\n",
       "            color:  #f1f1f1;\n",
       "        }#T_d7683_row6_col2,#T_d7683_row8_col2{\n",
       "            background-color:  #6b8df0;\n",
       "            color:  #000000;\n",
       "        }#T_d7683_row6_col3,#T_d7683_row6_col11{\n",
       "            background-color:  #8badfd;\n",
       "            color:  #000000;\n",
       "        }#T_d7683_row6_col9,#T_d7683_row9_col12,#T_d7683_row12_col5{\n",
       "            background-color:  #bfd3f6;\n",
       "            color:  #000000;\n",
       "        }#T_d7683_row6_col10,#T_d7683_row8_col9{\n",
       "            background-color:  #b2ccfb;\n",
       "            color:  #000000;\n",
       "        }#T_d7683_row6_col13,#T_d7683_row7_col3{\n",
       "            background-color:  #7597f6;\n",
       "            color:  #000000;\n",
       "        }#T_d7683_row7_col0,#T_d7683_row10_col0,#T_d7683_row11_col0,#T_d7683_row11_col4{\n",
       "            background-color:  #4257c9;\n",
       "            color:  #f1f1f1;\n",
       "        }#T_d7683_row7_col2,#T_d7683_row8_col6,#T_d7683_row10_col1{\n",
       "            background-color:  #7396f5;\n",
       "            color:  #000000;\n",
       "        }#T_d7683_row7_col9,#T_d7683_row11_col7{\n",
       "            background-color:  #b7cff9;\n",
       "            color:  #000000;\n",
       "        }#T_d7683_row7_col10,#T_d7683_row7_col12,#T_d7683_row10_col12,#T_d7683_row12_col7{\n",
       "            background-color:  #c6d6f1;\n",
       "            color:  #000000;\n",
       "        }#T_d7683_row8_col1,#T_d7683_row11_col1{\n",
       "            background-color:  #6a8bef;\n",
       "            color:  #000000;\n",
       "        }#T_d7683_row8_col5,#T_d7683_row8_col10{\n",
       "            background-color:  #b3cdfb;\n",
       "            color:  #000000;\n",
       "        }#T_d7683_row8_col11{\n",
       "            background-color:  #88abfd;\n",
       "            color:  #000000;\n",
       "        }#T_d7683_row9_col1{\n",
       "            background-color:  #89acfd;\n",
       "            color:  #000000;\n",
       "        }#T_d7683_row9_col2,#T_d7683_row10_col9{\n",
       "            background-color:  #bed2f6;\n",
       "            color:  #000000;\n",
       "        }#T_d7683_row9_col6{\n",
       "            background-color:  #9abbff;\n",
       "            color:  #000000;\n",
       "        }#T_d7683_row9_col10{\n",
       "            background-color:  #c5d6f2;\n",
       "            color:  #000000;\n",
       "        }#T_d7683_row9_col13{\n",
       "            background-color:  #465ecf;\n",
       "            color:  #f1f1f1;\n",
       "        }#T_d7683_row10_col2{\n",
       "            background-color:  #779af7;\n",
       "            color:  #000000;\n",
       "        }#T_d7683_row11_col3{\n",
       "            background-color:  #6e90f2;\n",
       "            color:  #000000;\n",
       "        }#T_d7683_row11_col12{\n",
       "            background-color:  #c0282f;\n",
       "            color:  #f1f1f1;\n",
       "        }#T_d7683_row12_col10{\n",
       "            background-color:  #cad8ef;\n",
       "            color:  #000000;\n",
       "        }#T_d7683_row12_col11{\n",
       "            background-color:  #c12b30;\n",
       "            color:  #f1f1f1;\n",
       "        }</style><table id=\"T_d7683_\" ><thead>    <tr>        <th class=\"blank level0\" ></th>        <th class=\"col_heading level0 col0\" >gender</th>        <th class=\"col_heading level0 col1\" >near_location</th>        <th class=\"col_heading level0 col2\" >partner</th>        <th class=\"col_heading level0 col3\" >promo_friends</th>        <th class=\"col_heading level0 col4\" >phone</th>        <th class=\"col_heading level0 col5\" >contract_period</th>        <th class=\"col_heading level0 col6\" >group_visits</th>        <th class=\"col_heading level0 col7\" >age</th>        <th class=\"col_heading level0 col8\" >avg_additional_charges_total</th>        <th class=\"col_heading level0 col9\" >month_to_end_contract</th>        <th class=\"col_heading level0 col10\" >lifetime</th>        <th class=\"col_heading level0 col11\" >avg_class_frequency_total</th>        <th class=\"col_heading level0 col12\" >avg_class_frequency_current_month</th>        <th class=\"col_heading level0 col13\" >churn</th>    </tr></thead><tbody>\n",
       "                <tr>\n",
       "                        <th id=\"T_d7683_level0_row0\" class=\"row_heading level0 row0\" >gender</th>\n",
       "                        <td id=\"T_d7683_row0_col0\" class=\"data row0 col0\" >1.000000</td>\n",
       "                        <td id=\"T_d7683_row0_col1\" class=\"data row0 col1\" >0.006699</td>\n",
       "                        <td id=\"T_d7683_row0_col2\" class=\"data row0 col2\" >-0.010463</td>\n",
       "                        <td id=\"T_d7683_row0_col3\" class=\"data row0 col3\" >-0.005033</td>\n",
       "                        <td id=\"T_d7683_row0_col4\" class=\"data row0 col4\" >-0.008542</td>\n",
       "                        <td id=\"T_d7683_row0_col5\" class=\"data row0 col5\" >0.000502</td>\n",
       "                        <td id=\"T_d7683_row0_col6\" class=\"data row0 col6\" >0.017879</td>\n",
       "                        <td id=\"T_d7683_row0_col7\" class=\"data row0 col7\" >0.013807</td>\n",
       "                        <td id=\"T_d7683_row0_col8\" class=\"data row0 col8\" >-0.009334</td>\n",
       "                        <td id=\"T_d7683_row0_col9\" class=\"data row0 col9\" >-0.001281</td>\n",
       "                        <td id=\"T_d7683_row0_col10\" class=\"data row0 col10\" >0.013579</td>\n",
       "                        <td id=\"T_d7683_row0_col11\" class=\"data row0 col11\" >0.014620</td>\n",
       "                        <td id=\"T_d7683_row0_col12\" class=\"data row0 col12\" >0.009156</td>\n",
       "                        <td id=\"T_d7683_row0_col13\" class=\"data row0 col13\" >0.000708</td>\n",
       "            </tr>\n",
       "            <tr>\n",
       "                        <th id=\"T_d7683_level0_row1\" class=\"row_heading level0 row1\" >near_location</th>\n",
       "                        <td id=\"T_d7683_row1_col0\" class=\"data row1 col0\" >0.006699</td>\n",
       "                        <td id=\"T_d7683_row1_col1\" class=\"data row1 col1\" >1.000000</td>\n",
       "                        <td id=\"T_d7683_row1_col2\" class=\"data row1 col2\" >-0.005119</td>\n",
       "                        <td id=\"T_d7683_row1_col3\" class=\"data row1 col3\" >0.210964</td>\n",
       "                        <td id=\"T_d7683_row1_col4\" class=\"data row1 col4\" >-0.015763</td>\n",
       "                        <td id=\"T_d7683_row1_col5\" class=\"data row1 col5\" >0.150233</td>\n",
       "                        <td id=\"T_d7683_row1_col6\" class=\"data row1 col6\" >0.154728</td>\n",
       "                        <td id=\"T_d7683_row1_col7\" class=\"data row1 col7\" >0.058358</td>\n",
       "                        <td id=\"T_d7683_row1_col8\" class=\"data row1 col8\" >0.040761</td>\n",
       "                        <td id=\"T_d7683_row1_col9\" class=\"data row1 col9\" >0.143961</td>\n",
       "                        <td id=\"T_d7683_row1_col10\" class=\"data row1 col10\" >0.070921</td>\n",
       "                        <td id=\"T_d7683_row1_col11\" class=\"data row1 col11\" >0.043127</td>\n",
       "                        <td id=\"T_d7683_row1_col12\" class=\"data row1 col12\" >0.062664</td>\n",
       "                        <td id=\"T_d7683_row1_col13\" class=\"data row1 col13\" >-0.128098</td>\n",
       "            </tr>\n",
       "            <tr>\n",
       "                        <th id=\"T_d7683_level0_row2\" class=\"row_heading level0 row2\" >partner</th>\n",
       "                        <td id=\"T_d7683_row2_col0\" class=\"data row2 col0\" >-0.010463</td>\n",
       "                        <td id=\"T_d7683_row2_col1\" class=\"data row2 col1\" >-0.005119</td>\n",
       "                        <td id=\"T_d7683_row2_col2\" class=\"data row2 col2\" >1.000000</td>\n",
       "                        <td id=\"T_d7683_row2_col3\" class=\"data row2 col3\" >0.451960</td>\n",
       "                        <td id=\"T_d7683_row2_col4\" class=\"data row2 col4\" >0.009970</td>\n",
       "                        <td id=\"T_d7683_row2_col5\" class=\"data row2 col5\" >0.306166</td>\n",
       "                        <td id=\"T_d7683_row2_col6\" class=\"data row2 col6\" >0.022710</td>\n",
       "                        <td id=\"T_d7683_row2_col7\" class=\"data row2 col7\" >0.047480</td>\n",
       "                        <td id=\"T_d7683_row2_col8\" class=\"data row2 col8\" >0.022941</td>\n",
       "                        <td id=\"T_d7683_row2_col9\" class=\"data row2 col9\" >0.294632</td>\n",
       "                        <td id=\"T_d7683_row2_col10\" class=\"data row2 col10\" >0.061229</td>\n",
       "                        <td id=\"T_d7683_row2_col11\" class=\"data row2 col11\" >0.024938</td>\n",
       "                        <td id=\"T_d7683_row2_col12\" class=\"data row2 col12\" >0.045561</td>\n",
       "                        <td id=\"T_d7683_row2_col13\" class=\"data row2 col13\" >-0.157986</td>\n",
       "            </tr>\n",
       "            <tr>\n",
       "                        <th id=\"T_d7683_level0_row3\" class=\"row_heading level0 row3\" >promo_friends</th>\n",
       "                        <td id=\"T_d7683_row3_col0\" class=\"data row3 col0\" >-0.005033</td>\n",
       "                        <td id=\"T_d7683_row3_col1\" class=\"data row3 col1\" >0.210964</td>\n",
       "                        <td id=\"T_d7683_row3_col2\" class=\"data row3 col2\" >0.451960</td>\n",
       "                        <td id=\"T_d7683_row3_col3\" class=\"data row3 col3\" >1.000000</td>\n",
       "                        <td id=\"T_d7683_row3_col4\" class=\"data row3 col4\" >0.001982</td>\n",
       "                        <td id=\"T_d7683_row3_col5\" class=\"data row3 col5\" >0.244552</td>\n",
       "                        <td id=\"T_d7683_row3_col6\" class=\"data row3 col6\" >0.120170</td>\n",
       "                        <td id=\"T_d7683_row3_col7\" class=\"data row3 col7\" >0.050113</td>\n",
       "                        <td id=\"T_d7683_row3_col8\" class=\"data row3 col8\" >0.036898</td>\n",
       "                        <td id=\"T_d7683_row3_col9\" class=\"data row3 col9\" >0.239553</td>\n",
       "                        <td id=\"T_d7683_row3_col10\" class=\"data row3 col10\" >0.072721</td>\n",
       "                        <td id=\"T_d7683_row3_col11\" class=\"data row3 col11\" >0.028063</td>\n",
       "                        <td id=\"T_d7683_row3_col12\" class=\"data row3 col12\" >0.053768</td>\n",
       "                        <td id=\"T_d7683_row3_col13\" class=\"data row3 col13\" >-0.162233</td>\n",
       "            </tr>\n",
       "            <tr>\n",
       "                        <th id=\"T_d7683_level0_row4\" class=\"row_heading level0 row4\" >phone</th>\n",
       "                        <td id=\"T_d7683_row4_col0\" class=\"data row4 col0\" >-0.008542</td>\n",
       "                        <td id=\"T_d7683_row4_col1\" class=\"data row4 col1\" >-0.015763</td>\n",
       "                        <td id=\"T_d7683_row4_col2\" class=\"data row4 col2\" >0.009970</td>\n",
       "                        <td id=\"T_d7683_row4_col3\" class=\"data row4 col3\" >0.001982</td>\n",
       "                        <td id=\"T_d7683_row4_col4\" class=\"data row4 col4\" >1.000000</td>\n",
       "                        <td id=\"T_d7683_row4_col5\" class=\"data row4 col5\" >-0.006893</td>\n",
       "                        <td id=\"T_d7683_row4_col6\" class=\"data row4 col6\" >-0.010099</td>\n",
       "                        <td id=\"T_d7683_row4_col7\" class=\"data row4 col7\" >-0.011403</td>\n",
       "                        <td id=\"T_d7683_row4_col8\" class=\"data row4 col8\" >0.009279</td>\n",
       "                        <td id=\"T_d7683_row4_col9\" class=\"data row4 col9\" >-0.011196</td>\n",
       "                        <td id=\"T_d7683_row4_col10\" class=\"data row4 col10\" >-0.018801</td>\n",
       "                        <td id=\"T_d7683_row4_col11\" class=\"data row4 col11\" >0.008340</td>\n",
       "                        <td id=\"T_d7683_row4_col12\" class=\"data row4 col12\" >0.013375</td>\n",
       "                        <td id=\"T_d7683_row4_col13\" class=\"data row4 col13\" >-0.001177</td>\n",
       "            </tr>\n",
       "            <tr>\n",
       "                        <th id=\"T_d7683_level0_row5\" class=\"row_heading level0 row5\" >contract_period</th>\n",
       "                        <td id=\"T_d7683_row5_col0\" class=\"data row5 col0\" >0.000502</td>\n",
       "                        <td id=\"T_d7683_row5_col1\" class=\"data row5 col1\" >0.150233</td>\n",
       "                        <td id=\"T_d7683_row5_col2\" class=\"data row5 col2\" >0.306166</td>\n",
       "                        <td id=\"T_d7683_row5_col3\" class=\"data row5 col3\" >0.244552</td>\n",
       "                        <td id=\"T_d7683_row5_col4\" class=\"data row5 col4\" >-0.006893</td>\n",
       "                        <td id=\"T_d7683_row5_col5\" class=\"data row5 col5\" >1.000000</td>\n",
       "                        <td id=\"T_d7683_row5_col6\" class=\"data row5 col6\" >0.169991</td>\n",
       "                        <td id=\"T_d7683_row5_col7\" class=\"data row5 col7\" >0.138249</td>\n",
       "                        <td id=\"T_d7683_row5_col8\" class=\"data row5 col8\" >0.111445</td>\n",
       "                        <td id=\"T_d7683_row5_col9\" class=\"data row5 col9\" >0.973064</td>\n",
       "                        <td id=\"T_d7683_row5_col10\" class=\"data row5 col10\" >0.170725</td>\n",
       "                        <td id=\"T_d7683_row5_col11\" class=\"data row5 col11\" >0.096211</td>\n",
       "                        <td id=\"T_d7683_row5_col12\" class=\"data row5 col12\" >0.159407</td>\n",
       "                        <td id=\"T_d7683_row5_col13\" class=\"data row5 col13\" >-0.389984</td>\n",
       "            </tr>\n",
       "            <tr>\n",
       "                        <th id=\"T_d7683_level0_row6\" class=\"row_heading level0 row6\" >group_visits</th>\n",
       "                        <td id=\"T_d7683_row6_col0\" class=\"data row6 col0\" >0.017879</td>\n",
       "                        <td id=\"T_d7683_row6_col1\" class=\"data row6 col1\" >0.154728</td>\n",
       "                        <td id=\"T_d7683_row6_col2\" class=\"data row6 col2\" >0.022710</td>\n",
       "                        <td id=\"T_d7683_row6_col3\" class=\"data row6 col3\" >0.120170</td>\n",
       "                        <td id=\"T_d7683_row6_col4\" class=\"data row6 col4\" >-0.010099</td>\n",
       "                        <td id=\"T_d7683_row6_col5\" class=\"data row6 col5\" >0.169991</td>\n",
       "                        <td id=\"T_d7683_row6_col6\" class=\"data row6 col6\" >1.000000</td>\n",
       "                        <td id=\"T_d7683_row6_col7\" class=\"data row6 col7\" >0.080934</td>\n",
       "                        <td id=\"T_d7683_row6_col8\" class=\"data row6 col8\" >0.032079</td>\n",
       "                        <td id=\"T_d7683_row6_col9\" class=\"data row6 col9\" >0.163703</td>\n",
       "                        <td id=\"T_d7683_row6_col10\" class=\"data row6 col10\" >0.075853</td>\n",
       "                        <td id=\"T_d7683_row6_col11\" class=\"data row6 col11\" >0.056695</td>\n",
       "                        <td id=\"T_d7683_row6_col12\" class=\"data row6 col12\" >0.075923</td>\n",
       "                        <td id=\"T_d7683_row6_col13\" class=\"data row6 col13\" >-0.175325</td>\n",
       "            </tr>\n",
       "            <tr>\n",
       "                        <th id=\"T_d7683_level0_row7\" class=\"row_heading level0 row7\" >age</th>\n",
       "                        <td id=\"T_d7683_row7_col0\" class=\"data row7 col0\" >0.013807</td>\n",
       "                        <td id=\"T_d7683_row7_col1\" class=\"data row7 col1\" >0.058358</td>\n",
       "                        <td id=\"T_d7683_row7_col2\" class=\"data row7 col2\" >0.047480</td>\n",
       "                        <td id=\"T_d7683_row7_col3\" class=\"data row7 col3\" >0.050113</td>\n",
       "                        <td id=\"T_d7683_row7_col4\" class=\"data row7 col4\" >-0.011403</td>\n",
       "                        <td id=\"T_d7683_row7_col5\" class=\"data row7 col5\" >0.138249</td>\n",
       "                        <td id=\"T_d7683_row7_col6\" class=\"data row7 col6\" >0.080934</td>\n",
       "                        <td id=\"T_d7683_row7_col7\" class=\"data row7 col7\" >1.000000</td>\n",
       "                        <td id=\"T_d7683_row7_col8\" class=\"data row7 col8\" >0.080240</td>\n",
       "                        <td id=\"T_d7683_row7_col9\" class=\"data row7 col9\" >0.134511</td>\n",
       "                        <td id=\"T_d7683_row7_col10\" class=\"data row7 col10\" >0.164693</td>\n",
       "                        <td id=\"T_d7683_row7_col11\" class=\"data row7 col11\" >0.119953</td>\n",
       "                        <td id=\"T_d7683_row7_col12\" class=\"data row7 col12\" >0.183095</td>\n",
       "                        <td id=\"T_d7683_row7_col13\" class=\"data row7 col13\" >-0.404735</td>\n",
       "            </tr>\n",
       "            <tr>\n",
       "                        <th id=\"T_d7683_level0_row8\" class=\"row_heading level0 row8\" >avg_additional_charges_total</th>\n",
       "                        <td id=\"T_d7683_row8_col0\" class=\"data row8 col0\" >-0.009334</td>\n",
       "                        <td id=\"T_d7683_row8_col1\" class=\"data row8 col1\" >0.040761</td>\n",
       "                        <td id=\"T_d7683_row8_col2\" class=\"data row8 col2\" >0.022941</td>\n",
       "                        <td id=\"T_d7683_row8_col3\" class=\"data row8 col3\" >0.036898</td>\n",
       "                        <td id=\"T_d7683_row8_col4\" class=\"data row8 col4\" >0.009279</td>\n",
       "                        <td id=\"T_d7683_row8_col5\" class=\"data row8 col5\" >0.111445</td>\n",
       "                        <td id=\"T_d7683_row8_col6\" class=\"data row8 col6\" >0.032079</td>\n",
       "                        <td id=\"T_d7683_row8_col7\" class=\"data row8 col7\" >0.080240</td>\n",
       "                        <td id=\"T_d7683_row8_col8\" class=\"data row8 col8\" >1.000000</td>\n",
       "                        <td id=\"T_d7683_row8_col9\" class=\"data row8 col9\" >0.113958</td>\n",
       "                        <td id=\"T_d7683_row8_col10\" class=\"data row8 col10\" >0.079028</td>\n",
       "                        <td id=\"T_d7683_row8_col11\" class=\"data row8 col11\" >0.044426</td>\n",
       "                        <td id=\"T_d7683_row8_col12\" class=\"data row8 col12\" >0.079570</td>\n",
       "                        <td id=\"T_d7683_row8_col13\" class=\"data row8 col13\" >-0.198697</td>\n",
       "            </tr>\n",
       "            <tr>\n",
       "                        <th id=\"T_d7683_level0_row9\" class=\"row_heading level0 row9\" >month_to_end_contract</th>\n",
       "                        <td id=\"T_d7683_row9_col0\" class=\"data row9 col0\" >-0.001281</td>\n",
       "                        <td id=\"T_d7683_row9_col1\" class=\"data row9 col1\" >0.143961</td>\n",
       "                        <td id=\"T_d7683_row9_col2\" class=\"data row9 col2\" >0.294632</td>\n",
       "                        <td id=\"T_d7683_row9_col3\" class=\"data row9 col3\" >0.239553</td>\n",
       "                        <td id=\"T_d7683_row9_col4\" class=\"data row9 col4\" >-0.011196</td>\n",
       "                        <td id=\"T_d7683_row9_col5\" class=\"data row9 col5\" >0.973064</td>\n",
       "                        <td id=\"T_d7683_row9_col6\" class=\"data row9 col6\" >0.163703</td>\n",
       "                        <td id=\"T_d7683_row9_col7\" class=\"data row9 col7\" >0.134511</td>\n",
       "                        <td id=\"T_d7683_row9_col8\" class=\"data row9 col8\" >0.113958</td>\n",
       "                        <td id=\"T_d7683_row9_col9\" class=\"data row9 col9\" >1.000000</td>\n",
       "                        <td id=\"T_d7683_row9_col10\" class=\"data row9 col10\" >0.161078</td>\n",
       "                        <td id=\"T_d7683_row9_col11\" class=\"data row9 col11\" >0.085387</td>\n",
       "                        <td id=\"T_d7683_row9_col12\" class=\"data row9 col12\" >0.147605</td>\n",
       "                        <td id=\"T_d7683_row9_col13\" class=\"data row9 col13\" >-0.381393</td>\n",
       "            </tr>\n",
       "            <tr>\n",
       "                        <th id=\"T_d7683_level0_row10\" class=\"row_heading level0 row10\" >lifetime</th>\n",
       "                        <td id=\"T_d7683_row10_col0\" class=\"data row10 col0\" >0.013579</td>\n",
       "                        <td id=\"T_d7683_row10_col1\" class=\"data row10 col1\" >0.070921</td>\n",
       "                        <td id=\"T_d7683_row10_col2\" class=\"data row10 col2\" >0.061229</td>\n",
       "                        <td id=\"T_d7683_row10_col3\" class=\"data row10 col3\" >0.072721</td>\n",
       "                        <td id=\"T_d7683_row10_col4\" class=\"data row10 col4\" >-0.018801</td>\n",
       "                        <td id=\"T_d7683_row10_col5\" class=\"data row10 col5\" >0.170725</td>\n",
       "                        <td id=\"T_d7683_row10_col6\" class=\"data row10 col6\" >0.075853</td>\n",
       "                        <td id=\"T_d7683_row10_col7\" class=\"data row10 col7\" >0.164693</td>\n",
       "                        <td id=\"T_d7683_row10_col8\" class=\"data row10 col8\" >0.079028</td>\n",
       "                        <td id=\"T_d7683_row10_col9\" class=\"data row10 col9\" >0.161078</td>\n",
       "                        <td id=\"T_d7683_row10_col10\" class=\"data row10 col10\" >1.000000</td>\n",
       "                        <td id=\"T_d7683_row10_col11\" class=\"data row10 col11\" >0.112338</td>\n",
       "                        <td id=\"T_d7683_row10_col12\" class=\"data row10 col12\" >0.181975</td>\n",
       "                        <td id=\"T_d7683_row10_col13\" class=\"data row10 col13\" >-0.438220</td>\n",
       "            </tr>\n",
       "            <tr>\n",
       "                        <th id=\"T_d7683_level0_row11\" class=\"row_heading level0 row11\" >avg_class_frequency_total</th>\n",
       "                        <td id=\"T_d7683_row11_col0\" class=\"data row11 col0\" >0.014620</td>\n",
       "                        <td id=\"T_d7683_row11_col1\" class=\"data row11 col1\" >0.043127</td>\n",
       "                        <td id=\"T_d7683_row11_col2\" class=\"data row11 col2\" >0.024938</td>\n",
       "                        <td id=\"T_d7683_row11_col3\" class=\"data row11 col3\" >0.028063</td>\n",
       "                        <td id=\"T_d7683_row11_col4\" class=\"data row11 col4\" >0.008340</td>\n",
       "                        <td id=\"T_d7683_row11_col5\" class=\"data row11 col5\" >0.096211</td>\n",
       "                        <td id=\"T_d7683_row11_col6\" class=\"data row11 col6\" >0.056695</td>\n",
       "                        <td id=\"T_d7683_row11_col7\" class=\"data row11 col7\" >0.119953</td>\n",
       "                        <td id=\"T_d7683_row11_col8\" class=\"data row11 col8\" >0.044426</td>\n",
       "                        <td id=\"T_d7683_row11_col9\" class=\"data row11 col9\" >0.085387</td>\n",
       "                        <td id=\"T_d7683_row11_col10\" class=\"data row11 col10\" >0.112338</td>\n",
       "                        <td id=\"T_d7683_row11_col11\" class=\"data row11 col11\" >1.000000</td>\n",
       "                        <td id=\"T_d7683_row11_col12\" class=\"data row11 col12\" >0.952739</td>\n",
       "                        <td id=\"T_d7683_row11_col13\" class=\"data row11 col13\" >-0.249715</td>\n",
       "            </tr>\n",
       "            <tr>\n",
       "                        <th id=\"T_d7683_level0_row12\" class=\"row_heading level0 row12\" >avg_class_frequency_current_month</th>\n",
       "                        <td id=\"T_d7683_row12_col0\" class=\"data row12 col0\" >0.009156</td>\n",
       "                        <td id=\"T_d7683_row12_col1\" class=\"data row12 col1\" >0.062664</td>\n",
       "                        <td id=\"T_d7683_row12_col2\" class=\"data row12 col2\" >0.045561</td>\n",
       "                        <td id=\"T_d7683_row12_col3\" class=\"data row12 col3\" >0.053768</td>\n",
       "                        <td id=\"T_d7683_row12_col4\" class=\"data row12 col4\" >0.013375</td>\n",
       "                        <td id=\"T_d7683_row12_col5\" class=\"data row12 col5\" >0.159407</td>\n",
       "                        <td id=\"T_d7683_row12_col6\" class=\"data row12 col6\" >0.075923</td>\n",
       "                        <td id=\"T_d7683_row12_col7\" class=\"data row12 col7\" >0.183095</td>\n",
       "                        <td id=\"T_d7683_row12_col8\" class=\"data row12 col8\" >0.079570</td>\n",
       "                        <td id=\"T_d7683_row12_col9\" class=\"data row12 col9\" >0.147605</td>\n",
       "                        <td id=\"T_d7683_row12_col10\" class=\"data row12 col10\" >0.181975</td>\n",
       "                        <td id=\"T_d7683_row12_col11\" class=\"data row12 col11\" >0.952739</td>\n",
       "                        <td id=\"T_d7683_row12_col12\" class=\"data row12 col12\" >1.000000</td>\n",
       "                        <td id=\"T_d7683_row12_col13\" class=\"data row12 col13\" >-0.412348</td>\n",
       "            </tr>\n",
       "            <tr>\n",
       "                        <th id=\"T_d7683_level0_row13\" class=\"row_heading level0 row13\" >churn</th>\n",
       "                        <td id=\"T_d7683_row13_col0\" class=\"data row13 col0\" >0.000708</td>\n",
       "                        <td id=\"T_d7683_row13_col1\" class=\"data row13 col1\" >-0.128098</td>\n",
       "                        <td id=\"T_d7683_row13_col2\" class=\"data row13 col2\" >-0.157986</td>\n",
       "                        <td id=\"T_d7683_row13_col3\" class=\"data row13 col3\" >-0.162233</td>\n",
       "                        <td id=\"T_d7683_row13_col4\" class=\"data row13 col4\" >-0.001177</td>\n",
       "                        <td id=\"T_d7683_row13_col5\" class=\"data row13 col5\" >-0.389984</td>\n",
       "                        <td id=\"T_d7683_row13_col6\" class=\"data row13 col6\" >-0.175325</td>\n",
       "                        <td id=\"T_d7683_row13_col7\" class=\"data row13 col7\" >-0.404735</td>\n",
       "                        <td id=\"T_d7683_row13_col8\" class=\"data row13 col8\" >-0.198697</td>\n",
       "                        <td id=\"T_d7683_row13_col9\" class=\"data row13 col9\" >-0.381393</td>\n",
       "                        <td id=\"T_d7683_row13_col10\" class=\"data row13 col10\" >-0.438220</td>\n",
       "                        <td id=\"T_d7683_row13_col11\" class=\"data row13 col11\" >-0.249715</td>\n",
       "                        <td id=\"T_d7683_row13_col12\" class=\"data row13 col12\" >-0.412348</td>\n",
       "                        <td id=\"T_d7683_row13_col13\" class=\"data row13 col13\" >1.000000</td>\n",
       "            </tr>\n",
       "    </tbody></table>"
      ],
      "text/plain": [
       "<pandas.io.formats.style.Styler at 0x7f41e5310fa0>"
      ]
     },
     "execution_count": 26,
     "metadata": {},
     "output_type": "execute_result"
    }
   ],
   "source": [
    "corr = gym_data.corr()\n",
    "corr.style.background_gradient(cmap = 'coolwarm')"
   ]
  },
  {
   "cell_type": "markdown",
   "id": "7965f8c6",
   "metadata": {},
   "source": [
    "En la matriz de correlación podemos resaltar que churn tiene una correlación negativa más alta con las siguientes variables *avg_class_frequency_current_month, avg_class_frequency_total, month_to_end_contract, age, contract_period y lifetime* "
   ]
  },
  {
   "cell_type": "code",
   "execution_count": 27,
   "id": "a185f134",
   "metadata": {},
   "outputs": [
    {
     "data": {
      "image/png": "[encoded data removed]",
      "text/plain": [
       "<Figure size 792x792 with 2 Axes>"
      ]
     },
     "metadata": {
      "needs_background": "light"
     },
     "output_type": "display_data"
    }
   ],
   "source": [
    "f,ax=plt.subplots(figsize=(11,11))\n",
    "sns.heatmap(corr,vmax=0.8,annot=True,square=True,cmap='coolwarm')\n",
    "plt.title('Correlación churn vs variables')\n",
    "plt.show()"
   ]
  },
  {
   "cell_type": "markdown",
   "id": "7dcd9102",
   "metadata": {},
   "source": [
    "#### Paso 3. Construir un modelo para predecir la cancelación de usuarios"
   ]
  },
  {
   "cell_type": "code",
   "execution_count": 28,
   "id": "0627da97",
   "metadata": {},
   "outputs": [
    {
     "data": {
      "text/plain": [
       "0    2939\n",
       "1    1061\n",
       "Name: churn, dtype: int64"
      ]
     },
     "execution_count": 28,
     "metadata": {},
     "output_type": "execute_result"
    }
   ],
   "source": [
    "#Vamos a observar la división de datos dentro de churn\n",
    "gym_data['churn'].value_counts()"
   ]
  },
  {
   "cell_type": "markdown",
   "id": "831f551b",
   "metadata": {},
   "source": [
    "La variable churn no está balanceada, hay mayor número de usuarios para la característica 0 que para la 1."
   ]
  },
  {
   "cell_type": "code",
   "execution_count": 29,
   "id": "45197611",
   "metadata": {},
   "outputs": [],
   "source": [
    "#División de datos para crear el modelo\n",
    "X=gym_data.drop('churn', axis=1)\n",
    "y=gym_data['churn']"
   ]
  },
  {
   "cell_type": "code",
   "execution_count": 30,
   "id": "feb39592",
   "metadata": {},
   "outputs": [],
   "source": [
    "#Dividiendo los datos para entrenamiento y prueba\n",
    "X_train, X_test, y_train, y_test=train_test_split(X, y, test_size=0.2, random_state=0)"
   ]
  },
  {
   "cell_type": "code",
   "execution_count": 31,
   "id": "28c713ca",
   "metadata": {},
   "outputs": [],
   "source": [
    "#Aplicamos la estandarización\n",
    "scaler=StandardScaler()"
   ]
  },
  {
   "cell_type": "code",
   "execution_count": 32,
   "id": "83465441",
   "metadata": {},
   "outputs": [],
   "source": [
    "#transformando la matriz para el conjunto de entrenamiento\n",
    "X_train_st = scaler.fit_transform(X_train) "
   ]
  },
  {
   "cell_type": "code",
   "execution_count": 33,
   "id": "936211ad",
   "metadata": {},
   "outputs": [],
   "source": [
    "#Aplicando la transformación para el consjunto de prueba\n",
    "X_test_st = scaler.transform(X_test)"
   ]
  },
  {
   "cell_type": "markdown",
   "id": "4f19af0e",
   "metadata": {},
   "source": [
    "#### Comparación de Modelos\n",
    "\n",
    "Se trabajará con los modelos de LogisticRegression y RandomForestClassifier ya que la variable objetivo es binaria"
   ]
  },
  {
   "cell_type": "markdown",
   "id": "3916aaf5",
   "metadata": {},
   "source": [
    "##### Modelo de Regresión Logística (LogisticRegression)"
   ]
  },
  {
   "cell_type": "code",
   "execution_count": 34,
   "id": "a8002506",
   "metadata": {},
   "outputs": [],
   "source": [
    "#Iniciar el modelo de regresión logística\n",
    "model_rl= LogisticRegression(random_state=0, solver='liblinear')"
   ]
  },
  {
   "cell_type": "code",
   "execution_count": 35,
   "id": "8c2c2357",
   "metadata": {},
   "outputs": [
    {
     "data": {
      "text/plain": [
       "LogisticRegression(random_state=0, solver='liblinear')"
      ]
     },
     "execution_count": 35,
     "metadata": {},
     "output_type": "execute_result"
    }
   ],
   "source": [
    "#Entrenar el modelo\n",
    "model_rl.fit(X_train_st, y_train)"
   ]
  },
  {
   "cell_type": "code",
   "execution_count": 36,
   "id": "43f40cea",
   "metadata": {},
   "outputs": [],
   "source": [
    "#Realizando las previsiones\n",
    "predictions_rl=model_rl.predict(X_test_st)"
   ]
  },
  {
   "cell_type": "code",
   "execution_count": 37,
   "id": "3c9d2cd0",
   "metadata": {},
   "outputs": [],
   "source": [
    "#Obteniendo la probabilidad de que entre en la clase 1 o 0\n",
    "probas_rl=model_rl.predict_proba(X_test_st)"
   ]
  },
  {
   "cell_type": "code",
   "execution_count": 38,
   "id": "afe17185",
   "metadata": {},
   "outputs": [
    {
     "name": "stdout",
     "output_type": "stream",
     "text": [
      "Exactitud: 0.922\n",
      "Precisión: 0.854\n",
      "Recall: 0.828\n"
     ]
    }
   ],
   "source": [
    "#Calculo de métricas de clasificación para el modelo LogicRegression\n",
    "\n",
    "print('Exactitud: {:.3f}'.format(accuracy_score(y_test, predictions_rl)))\n",
    "print('Precisión: {:.3f}'.format(precision_score(y_test, predictions_rl)))\n",
    "print('Recall: {:.3f}'.format(recall_score(y_test, predictions_rl)))"
   ]
  },
  {
   "cell_type": "markdown",
   "id": "61c59f8a",
   "metadata": {},
   "source": [
    "##### Modelo de Bosque Aleatorio Clasificador (RandomForestClassifier)"
   ]
  },
  {
   "cell_type": "code",
   "execution_count": 39,
   "id": "7160d724",
   "metadata": {},
   "outputs": [],
   "source": [
    "#Iniciar el modelo de Bosque aleatorio Clasificador\n",
    "model_rfc=RandomForestClassifier(random_state=0, n_estimators=100)"
   ]
  },
  {
   "cell_type": "code",
   "execution_count": 40,
   "id": "97d343d4",
   "metadata": {},
   "outputs": [
    {
     "data": {
      "text/plain": [
       "RandomForestClassifier(random_state=0)"
      ]
     },
     "execution_count": 40,
     "metadata": {},
     "output_type": "execute_result"
    }
   ],
   "source": [
    "#Entrenamiento del modelo\n",
    "model_rfc.fit(X_train_st, y_train)"
   ]
  },
  {
   "cell_type": "code",
   "execution_count": 41,
   "id": "57c586d5",
   "metadata": {},
   "outputs": [],
   "source": [
    "predictions_rfc=model_rfc.predict(X_test_st)"
   ]
  },
  {
   "cell_type": "code",
   "execution_count": 42,
   "id": "e49f7efd",
   "metadata": {},
   "outputs": [
    {
     "name": "stdout",
     "output_type": "stream",
     "text": [
      "Exactitud: 0.915\n",
      "Precisión: 0.839\n",
      "Recall: 0.813\n"
     ]
    }
   ],
   "source": [
    "#Calculo de métricas de clasificación para el modelo RandomForestClassifier\n",
    "\n",
    "print('Exactitud: {:.3f}'.format(accuracy_score(y_test, predictions_rfc)))\n",
    "print('Precisión: {:.3f}'.format(precision_score(y_test, predictions_rfc)))\n",
    "print('Recall: {:.3f}'.format(recall_score(y_test, predictions_rfc)))"
   ]
  },
  {
   "cell_type": "markdown",
   "id": "b282c125",
   "metadata": {},
   "source": [
    "Ambos modelos son my parejos en el desempeño, pero el modelo de LogisticRegression es levemente superior al de RandomForestClassifier en exactitud, precisión y recall"
   ]
  },
  {
   "cell_type": "markdown",
   "id": "15570786",
   "metadata": {},
   "source": [
    "#### Paso 4. Crear clústeres de usuarios"
   ]
  },
  {
   "cell_type": "code",
   "execution_count": 43,
   "id": "bd52b6bf",
   "metadata": {},
   "outputs": [],
   "source": [
    "#Estandarización de datos\n",
    "sc=StandardScaler()"
   ]
  },
  {
   "cell_type": "code",
   "execution_count": 44,
   "id": "4ce61c48",
   "metadata": {},
   "outputs": [],
   "source": [
    "#Eliminamos la variable objetivo churn para realizar la transfotmación del resto de las columnas\n",
    "gym_data_no_churn=gym_data.drop('churn', axis=1)"
   ]
  },
  {
   "cell_type": "code",
   "execution_count": 45,
   "id": "bbcb18fc",
   "metadata": {},
   "outputs": [],
   "source": [
    "X_sc=sc.fit_transform(gym_data_no_churn)"
   ]
  },
  {
   "cell_type": "code",
   "execution_count": 46,
   "id": "1fbcb278",
   "metadata": {},
   "outputs": [],
   "source": [
    "#Utilizar la función linkage() para crear una matriz de distancias basada \n",
    "#en la matriz de características estandarizada\n",
    "linked=linkage(X_sc, method='ward')"
   ]
  },
  {
   "cell_type": "code",
   "execution_count": 47,
   "id": "2df53e26",
   "metadata": {
    "scrolled": true
   },
   "outputs": [
    {
     "data": {
      "image/png": "[encoded data removed]",
      "text/plain": [
       "<Figure size 1080x720 with 1 Axes>"
      ]
     },
     "metadata": {
      "needs_background": "light"
     },
     "output_type": "display_data"
    }
   ],
   "source": [
    "#Crear el dendograma\n",
    "plt.figure(figsize=(15,10))\n",
    "dendrogram(linked, orientation='top')\n",
    "plt.xticks([])\n",
    "plt.title('Agrupación de variables jerarquico de usuarios del gimnasio')\n",
    "plt.show()"
   ]
  },
  {
   "cell_type": "code",
   "execution_count": 48,
   "id": "5e0fa209",
   "metadata": {},
   "outputs": [],
   "source": [
    "#Entrenar el modelo de clustering con el algortimo K-means para predecir los clústeres de clientes\n",
    "\n",
    "#Se tomara el número de clusters n=5\n",
    "km = KMeans(n_clusters = 5,random_state=0)"
   ]
  },
  {
   "cell_type": "code",
   "execution_count": 49,
   "id": "f128b476",
   "metadata": {},
   "outputs": [],
   "source": [
    "#Se aplicará el algoritmo a los datos para fomar un vector de cluster\n",
    "labels= km.fit_predict(X_sc)"
   ]
  },
  {
   "cell_type": "code",
   "execution_count": 50,
   "id": "3f8218fe",
   "metadata": {},
   "outputs": [
    {
     "data": {
      "text/plain": [
       "array([1, 0, 3, ..., 0, 0, 1], dtype=int32)"
      ]
     },
     "execution_count": 50,
     "metadata": {},
     "output_type": "execute_result"
    }
   ],
   "source": [
    "labels"
   ]
  },
  {
   "cell_type": "code",
   "execution_count": 51,
   "id": "303e45b0",
   "metadata": {},
   "outputs": [],
   "source": [
    "cluster_values=pd.DataFrame(labels,columns=['cluster'])\n"
   ]
  },
  {
   "cell_type": "code",
   "execution_count": 52,
   "id": "0c7aa90b",
   "metadata": {},
   "outputs": [
    {
     "data": {
      "text/plain": [
       "cluster\n",
       "3          1262\n",
       "0          1010\n",
       "4           838\n",
       "2           505\n",
       "1           385\n",
       "dtype: int64"
      ]
     },
     "execution_count": 52,
     "metadata": {},
     "output_type": "execute_result"
    }
   ],
   "source": [
    "cluster_values.value_counts()"
   ]
  },
  {
   "cell_type": "code",
   "execution_count": 53,
   "id": "97b7a4a8",
   "metadata": {},
   "outputs": [],
   "source": [
    "gym_data_no_churn['cluster']=labels"
   ]
  },
  {
   "cell_type": "code",
   "execution_count": 54,
   "id": "a798f829",
   "metadata": {},
   "outputs": [
    {
     "data": {
      "text/html": [
       "<div>\n",
       "<style scoped>\n",
       "    .dataframe tbody tr th:only-of-type {\n",
       "        vertical-align: middle;\n",
       "    }\n",
       "\n",
       "    .dataframe tbody tr th {\n",
       "        vertical-align: top;\n",
       "    }\n",
       "\n",
       "    .dataframe thead th {\n",
       "        text-align: right;\n",
       "    }\n",
       "</style>\n",
       "<table border=\"1\" class=\"dataframe\">\n",
       "  <thead>\n",
       "    <tr style=\"text-align: right;\">\n",
       "      <th></th>\n",
       "      <th>gender</th>\n",
       "      <th>near_location</th>\n",
       "      <th>partner</th>\n",
       "      <th>promo_friends</th>\n",
       "      <th>phone</th>\n",
       "      <th>contract_period</th>\n",
       "      <th>group_visits</th>\n",
       "      <th>age</th>\n",
       "      <th>avg_additional_charges_total</th>\n",
       "      <th>month_to_end_contract</th>\n",
       "      <th>lifetime</th>\n",
       "      <th>avg_class_frequency_total</th>\n",
       "      <th>avg_class_frequency_current_month</th>\n",
       "      <th>cluster</th>\n",
       "    </tr>\n",
       "  </thead>\n",
       "  <tbody>\n",
       "    <tr>\n",
       "      <th>0</th>\n",
       "      <td>1</td>\n",
       "      <td>1</td>\n",
       "      <td>1</td>\n",
       "      <td>1</td>\n",
       "      <td>0</td>\n",
       "      <td>6</td>\n",
       "      <td>1</td>\n",
       "      <td>29</td>\n",
       "      <td>14.227470</td>\n",
       "      <td>5.0</td>\n",
       "      <td>3</td>\n",
       "      <td>0.020398</td>\n",
       "      <td>0.000000</td>\n",
       "      <td>1</td>\n",
       "    </tr>\n",
       "    <tr>\n",
       "      <th>1</th>\n",
       "      <td>0</td>\n",
       "      <td>1</td>\n",
       "      <td>0</td>\n",
       "      <td>0</td>\n",
       "      <td>1</td>\n",
       "      <td>12</td>\n",
       "      <td>1</td>\n",
       "      <td>31</td>\n",
       "      <td>113.202938</td>\n",
       "      <td>12.0</td>\n",
       "      <td>7</td>\n",
       "      <td>1.922936</td>\n",
       "      <td>1.910244</td>\n",
       "      <td>0</td>\n",
       "    </tr>\n",
       "    <tr>\n",
       "      <th>2</th>\n",
       "      <td>0</td>\n",
       "      <td>1</td>\n",
       "      <td>1</td>\n",
       "      <td>0</td>\n",
       "      <td>1</td>\n",
       "      <td>1</td>\n",
       "      <td>0</td>\n",
       "      <td>28</td>\n",
       "      <td>129.448479</td>\n",
       "      <td>1.0</td>\n",
       "      <td>2</td>\n",
       "      <td>1.859098</td>\n",
       "      <td>1.736502</td>\n",
       "      <td>3</td>\n",
       "    </tr>\n",
       "    <tr>\n",
       "      <th>3</th>\n",
       "      <td>0</td>\n",
       "      <td>1</td>\n",
       "      <td>1</td>\n",
       "      <td>1</td>\n",
       "      <td>1</td>\n",
       "      <td>12</td>\n",
       "      <td>1</td>\n",
       "      <td>33</td>\n",
       "      <td>62.669863</td>\n",
       "      <td>12.0</td>\n",
       "      <td>2</td>\n",
       "      <td>3.205633</td>\n",
       "      <td>3.357215</td>\n",
       "      <td>0</td>\n",
       "    </tr>\n",
       "    <tr>\n",
       "      <th>4</th>\n",
       "      <td>1</td>\n",
       "      <td>1</td>\n",
       "      <td>1</td>\n",
       "      <td>1</td>\n",
       "      <td>1</td>\n",
       "      <td>1</td>\n",
       "      <td>0</td>\n",
       "      <td>26</td>\n",
       "      <td>198.362265</td>\n",
       "      <td>1.0</td>\n",
       "      <td>3</td>\n",
       "      <td>1.113884</td>\n",
       "      <td>1.120078</td>\n",
       "      <td>3</td>\n",
       "    </tr>\n",
       "    <tr>\n",
       "      <th>...</th>\n",
       "      <td>...</td>\n",
       "      <td>...</td>\n",
       "      <td>...</td>\n",
       "      <td>...</td>\n",
       "      <td>...</td>\n",
       "      <td>...</td>\n",
       "      <td>...</td>\n",
       "      <td>...</td>\n",
       "      <td>...</td>\n",
       "      <td>...</td>\n",
       "      <td>...</td>\n",
       "      <td>...</td>\n",
       "      <td>...</td>\n",
       "      <td>...</td>\n",
       "    </tr>\n",
       "    <tr>\n",
       "      <th>3995</th>\n",
       "      <td>1</td>\n",
       "      <td>1</td>\n",
       "      <td>1</td>\n",
       "      <td>0</td>\n",
       "      <td>1</td>\n",
       "      <td>12</td>\n",
       "      <td>0</td>\n",
       "      <td>33</td>\n",
       "      <td>2.406023</td>\n",
       "      <td>12.0</td>\n",
       "      <td>8</td>\n",
       "      <td>2.284497</td>\n",
       "      <td>2.349070</td>\n",
       "      <td>0</td>\n",
       "    </tr>\n",
       "    <tr>\n",
       "      <th>3996</th>\n",
       "      <td>0</td>\n",
       "      <td>1</td>\n",
       "      <td>0</td>\n",
       "      <td>0</td>\n",
       "      <td>1</td>\n",
       "      <td>1</td>\n",
       "      <td>1</td>\n",
       "      <td>29</td>\n",
       "      <td>68.883764</td>\n",
       "      <td>1.0</td>\n",
       "      <td>1</td>\n",
       "      <td>1.277168</td>\n",
       "      <td>0.292859</td>\n",
       "      <td>3</td>\n",
       "    </tr>\n",
       "    <tr>\n",
       "      <th>3997</th>\n",
       "      <td>1</td>\n",
       "      <td>1</td>\n",
       "      <td>1</td>\n",
       "      <td>1</td>\n",
       "      <td>1</td>\n",
       "      <td>12</td>\n",
       "      <td>0</td>\n",
       "      <td>28</td>\n",
       "      <td>78.250542</td>\n",
       "      <td>11.0</td>\n",
       "      <td>2</td>\n",
       "      <td>2.786146</td>\n",
       "      <td>2.831439</td>\n",
       "      <td>0</td>\n",
       "    </tr>\n",
       "    <tr>\n",
       "      <th>3998</th>\n",
       "      <td>0</td>\n",
       "      <td>1</td>\n",
       "      <td>1</td>\n",
       "      <td>1</td>\n",
       "      <td>1</td>\n",
       "      <td>6</td>\n",
       "      <td>0</td>\n",
       "      <td>32</td>\n",
       "      <td>61.912657</td>\n",
       "      <td>5.0</td>\n",
       "      <td>3</td>\n",
       "      <td>1.630108</td>\n",
       "      <td>1.596237</td>\n",
       "      <td>0</td>\n",
       "    </tr>\n",
       "    <tr>\n",
       "      <th>3999</th>\n",
       "      <td>1</td>\n",
       "      <td>0</td>\n",
       "      <td>1</td>\n",
       "      <td>0</td>\n",
       "      <td>0</td>\n",
       "      <td>12</td>\n",
       "      <td>1</td>\n",
       "      <td>30</td>\n",
       "      <td>178.861814</td>\n",
       "      <td>12.0</td>\n",
       "      <td>1</td>\n",
       "      <td>1.101832</td>\n",
       "      <td>1.035270</td>\n",
       "      <td>1</td>\n",
       "    </tr>\n",
       "  </tbody>\n",
       "</table>\n",
       "<p>4000 rows × 14 columns</p>\n",
       "</div>"
      ],
      "text/plain": [
       "      gender  near_location  partner  promo_friends  phone  contract_period  \\\n",
       "0          1              1        1              1      0                6   \n",
       "1          0              1        0              0      1               12   \n",
       "2          0              1        1              0      1                1   \n",
       "3          0              1        1              1      1               12   \n",
       "4          1              1        1              1      1                1   \n",
       "...      ...            ...      ...            ...    ...              ...   \n",
       "3995       1              1        1              0      1               12   \n",
       "3996       0              1        0              0      1                1   \n",
       "3997       1              1        1              1      1               12   \n",
       "3998       0              1        1              1      1                6   \n",
       "3999       1              0        1              0      0               12   \n",
       "\n",
       "      group_visits  age  avg_additional_charges_total  month_to_end_contract  \\\n",
       "0                1   29                     14.227470                    5.0   \n",
       "1                1   31                    113.202938                   12.0   \n",
       "2                0   28                    129.448479                    1.0   \n",
       "3                1   33                     62.669863                   12.0   \n",
       "4                0   26                    198.362265                    1.0   \n",
       "...            ...  ...                           ...                    ...   \n",
       "3995             0   33                      2.406023                   12.0   \n",
       "3996             1   29                     68.883764                    1.0   \n",
       "3997             0   28                     78.250542                   11.0   \n",
       "3998             0   32                     61.912657                    5.0   \n",
       "3999             1   30                    178.861814                   12.0   \n",
       "\n",
       "      lifetime  avg_class_frequency_total  avg_class_frequency_current_month  \\\n",
       "0            3                   0.020398                           0.000000   \n",
       "1            7                   1.922936                           1.910244   \n",
       "2            2                   1.859098                           1.736502   \n",
       "3            2                   3.205633                           3.357215   \n",
       "4            3                   1.113884                           1.120078   \n",
       "...        ...                        ...                                ...   \n",
       "3995         8                   2.284497                           2.349070   \n",
       "3996         1                   1.277168                           0.292859   \n",
       "3997         2                   2.786146                           2.831439   \n",
       "3998         3                   1.630108                           1.596237   \n",
       "3999         1                   1.101832                           1.035270   \n",
       "\n",
       "      cluster  \n",
       "0           1  \n",
       "1           0  \n",
       "2           3  \n",
       "3           0  \n",
       "4           3  \n",
       "...       ...  \n",
       "3995        0  \n",
       "3996        3  \n",
       "3997        0  \n",
       "3998        0  \n",
       "3999        1  \n",
       "\n",
       "[4000 rows x 14 columns]"
      ]
     },
     "execution_count": 54,
     "metadata": {},
     "output_type": "execute_result"
    }
   ],
   "source": [
    "gym_data_no_churn"
   ]
  },
  {
   "cell_type": "code",
   "execution_count": 55,
   "id": "40d3edf8",
   "metadata": {},
   "outputs": [
    {
     "data": {
      "text/plain": [
       "array([[-0.01356529,  0.31552772,  0.59261496,  0.57662146,  0.32681319,\n",
       "         1.36568854,  0.26585013,  0.24612792,  0.14404709,  1.34476956,\n",
       "         0.26985253,  0.10590175,  0.19719616],\n",
       "       [ 0.02366082,  0.04724705, -0.03325194, -0.00434424, -3.05985201,\n",
       "         0.02324902,  0.02788078,  0.03592699, -0.03099391,  0.03640728,\n",
       "         0.05333051, -0.0327118 , -0.04814235],\n",
       "       [-0.03040738, -2.33709981, -0.04678376, -0.49643841,  0.32681319,\n",
       "        -0.51191571, -0.39900969, -0.21701381, -0.11922153, -0.50700192,\n",
       "        -0.24403795, -0.22482651, -0.27520459],\n",
       "       [-0.0498058 ,  0.42788074, -0.2720912 , -0.1485145 ,  0.32681319,\n",
       "        -0.60001438, -0.14423666, -0.31245911, -0.15929411, -0.58769402,\n",
       "        -0.34201708, -0.648823  , -0.71544299],\n",
       "       [ 0.09885252,  0.36189075, -0.25998749, -0.16928796,  0.32277183,\n",
       "        -0.44223748,  0.12493307,  0.2888459 ,  0.15272611, -0.44462503,\n",
       "         0.31311849,  1.00088308,  1.02881465]])"
      ]
     },
     "execution_count": 55,
     "metadata": {},
     "output_type": "execute_result"
    }
   ],
   "source": [
    "#valores medios de característica para clústeres.\n",
    "km.cluster_centers_"
   ]
  },
  {
   "cell_type": "markdown",
   "id": "ad4cc757",
   "metadata": {},
   "source": [
    "##### Trazar distribuciones de características para los clústeres."
   ]
  },
  {
   "cell_type": "code",
   "execution_count": 56,
   "id": "7b9da1bb",
   "metadata": {},
   "outputs": [],
   "source": [
    "#Hallar los centroides y guardandolos en un DataFrame\n",
    "centroids_df = pd.DataFrame(scaler.inverse_transform(km.cluster_centers_), columns=X_train.columns)\n",
    "#centroids_df.reset_index(names=\"centroid\", inplace=True)"
   ]
  },
  {
   "cell_type": "code",
   "execution_count": 57,
   "id": "1bf3cd22",
   "metadata": {},
   "outputs": [
    {
     "data": {
      "text/html": [
       "<div>\n",
       "<style scoped>\n",
       "    .dataframe tbody tr th:only-of-type {\n",
       "        vertical-align: middle;\n",
       "    }\n",
       "\n",
       "    .dataframe tbody tr th {\n",
       "        vertical-align: top;\n",
       "    }\n",
       "\n",
       "    .dataframe thead th {\n",
       "        text-align: right;\n",
       "    }\n",
       "</style>\n",
       "<table border=\"1\" class=\"dataframe\">\n",
       "  <thead>\n",
       "    <tr style=\"text-align: right;\">\n",
       "      <th></th>\n",
       "      <th>gender</th>\n",
       "      <th>near_location</th>\n",
       "      <th>partner</th>\n",
       "      <th>promo_friends</th>\n",
       "      <th>phone</th>\n",
       "      <th>contract_period</th>\n",
       "      <th>group_visits</th>\n",
       "      <th>age</th>\n",
       "      <th>avg_additional_charges_total</th>\n",
       "      <th>month_to_end_contract</th>\n",
       "      <th>lifetime</th>\n",
       "      <th>avg_class_frequency_total</th>\n",
       "      <th>avg_class_frequency_current_month</th>\n",
       "    </tr>\n",
       "  </thead>\n",
       "  <tbody>\n",
       "    <tr>\n",
       "      <th>0</th>\n",
       "      <td>0.500718</td>\n",
       "      <td>0.963743</td>\n",
       "      <td>0.780538</td>\n",
       "      <td>0.580927</td>\n",
       "      <td>1.003028</td>\n",
       "      <td>10.911194</td>\n",
       "      <td>0.549256</td>\n",
       "      <td>29.921250</td>\n",
       "      <td>161.215020</td>\n",
       "      <td>9.965543</td>\n",
       "      <td>4.753294</td>\n",
       "      <td>1.984189</td>\n",
       "      <td>1.972748</td>\n",
       "    </tr>\n",
       "    <tr>\n",
       "      <th>1</th>\n",
       "      <td>0.519329</td>\n",
       "      <td>0.868360</td>\n",
       "      <td>0.467757</td>\n",
       "      <td>0.311422</td>\n",
       "      <td>0.029293</td>\n",
       "      <td>4.804201</td>\n",
       "      <td>0.431877</td>\n",
       "      <td>29.240961</td>\n",
       "      <td>144.197032</td>\n",
       "      <td>4.485309</td>\n",
       "      <td>3.933486</td>\n",
       "      <td>1.849237</td>\n",
       "      <td>1.713615</td>\n",
       "    </tr>\n",
       "    <tr>\n",
       "      <th>2</th>\n",
       "      <td>0.492298</td>\n",
       "      <td>0.020646</td>\n",
       "      <td>0.460995</td>\n",
       "      <td>0.083144</td>\n",
       "      <td>1.003028</td>\n",
       "      <td>2.369643</td>\n",
       "      <td>0.221313</td>\n",
       "      <td>28.422349</td>\n",
       "      <td>135.619291</td>\n",
       "      <td>2.209173</td>\n",
       "      <td>2.807572</td>\n",
       "      <td>1.662197</td>\n",
       "      <td>1.473786</td>\n",
       "    </tr>\n",
       "    <tr>\n",
       "      <th>3</th>\n",
       "      <td>0.482600</td>\n",
       "      <td>1.003688</td>\n",
       "      <td>0.348396</td>\n",
       "      <td>0.244543</td>\n",
       "      <td>1.003028</td>\n",
       "      <td>1.968867</td>\n",
       "      <td>0.346980</td>\n",
       "      <td>28.113452</td>\n",
       "      <td>131.723320</td>\n",
       "      <td>1.871185</td>\n",
       "      <td>2.436597</td>\n",
       "      <td>1.249401</td>\n",
       "      <td>1.008794</td>\n",
       "    </tr>\n",
       "    <tr>\n",
       "      <th>4</th>\n",
       "      <td>0.556921</td>\n",
       "      <td>0.980227</td>\n",
       "      <td>0.354445</td>\n",
       "      <td>0.234906</td>\n",
       "      <td>1.001866</td>\n",
       "      <td>2.686622</td>\n",
       "      <td>0.479748</td>\n",
       "      <td>30.059502</td>\n",
       "      <td>162.058819</td>\n",
       "      <td>2.470447</td>\n",
       "      <td>4.917110</td>\n",
       "      <td>2.855527</td>\n",
       "      <td>2.851126</td>\n",
       "    </tr>\n",
       "  </tbody>\n",
       "</table>\n",
       "</div>"
      ],
      "text/plain": [
       "     gender  near_location   partner  promo_friends     phone  \\\n",
       "0  0.500718       0.963743  0.780538       0.580927  1.003028   \n",
       "1  0.519329       0.868360  0.467757       0.311422  0.029293   \n",
       "2  0.492298       0.020646  0.460995       0.083144  1.003028   \n",
       "3  0.482600       1.003688  0.348396       0.244543  1.003028   \n",
       "4  0.556921       0.980227  0.354445       0.234906  1.001866   \n",
       "\n",
       "   contract_period  group_visits        age  avg_additional_charges_total  \\\n",
       "0        10.911194      0.549256  29.921250                    161.215020   \n",
       "1         4.804201      0.431877  29.240961                    144.197032   \n",
       "2         2.369643      0.221313  28.422349                    135.619291   \n",
       "3         1.968867      0.346980  28.113452                    131.723320   \n",
       "4         2.686622      0.479748  30.059502                    162.058819   \n",
       "\n",
       "   month_to_end_contract  lifetime  avg_class_frequency_total  \\\n",
       "0               9.965543  4.753294                   1.984189   \n",
       "1               4.485309  3.933486                   1.849237   \n",
       "2               2.209173  2.807572                   1.662197   \n",
       "3               1.871185  2.436597                   1.249401   \n",
       "4               2.470447  4.917110                   2.855527   \n",
       "\n",
       "   avg_class_frequency_current_month  \n",
       "0                           1.972748  \n",
       "1                           1.713615  \n",
       "2                           1.473786  \n",
       "3                           1.008794  \n",
       "4                           2.851126  "
      ]
     },
     "execution_count": 57,
     "metadata": {},
     "output_type": "execute_result"
    }
   ],
   "source": [
    "centroids_df"
   ]
  },
  {
   "cell_type": "code",
   "execution_count": 58,
   "id": "af7221bf",
   "metadata": {},
   "outputs": [],
   "source": [
    "centroids_df=centroids_df.reset_index()"
   ]
  },
  {
   "cell_type": "code",
   "execution_count": 59,
   "id": "a174bbcc",
   "metadata": {
    "scrolled": true
   },
   "outputs": [
    {
     "data": {
      "text/html": [
       "<div>\n",
       "<style scoped>\n",
       "    .dataframe tbody tr th:only-of-type {\n",
       "        vertical-align: middle;\n",
       "    }\n",
       "\n",
       "    .dataframe tbody tr th {\n",
       "        vertical-align: top;\n",
       "    }\n",
       "\n",
       "    .dataframe thead th {\n",
       "        text-align: right;\n",
       "    }\n",
       "</style>\n",
       "<table border=\"1\" class=\"dataframe\">\n",
       "  <thead>\n",
       "    <tr style=\"text-align: right;\">\n",
       "      <th></th>\n",
       "      <th>centroid</th>\n",
       "      <th>gender</th>\n",
       "      <th>near_location</th>\n",
       "      <th>partner</th>\n",
       "      <th>promo_friends</th>\n",
       "      <th>phone</th>\n",
       "      <th>contract_period</th>\n",
       "      <th>group_visits</th>\n",
       "      <th>age</th>\n",
       "      <th>avg_additional_charges_total</th>\n",
       "      <th>month_to_end_contract</th>\n",
       "      <th>lifetime</th>\n",
       "      <th>avg_class_frequency_total</th>\n",
       "      <th>avg_class_frequency_current_month</th>\n",
       "    </tr>\n",
       "  </thead>\n",
       "  <tbody>\n",
       "    <tr>\n",
       "      <th>0</th>\n",
       "      <td>0</td>\n",
       "      <td>0.500718</td>\n",
       "      <td>0.963743</td>\n",
       "      <td>0.780538</td>\n",
       "      <td>0.580927</td>\n",
       "      <td>1.003028</td>\n",
       "      <td>10.911194</td>\n",
       "      <td>0.549256</td>\n",
       "      <td>29.921250</td>\n",
       "      <td>161.215020</td>\n",
       "      <td>9.965543</td>\n",
       "      <td>4.753294</td>\n",
       "      <td>1.984189</td>\n",
       "      <td>1.972748</td>\n",
       "    </tr>\n",
       "    <tr>\n",
       "      <th>1</th>\n",
       "      <td>1</td>\n",
       "      <td>0.519329</td>\n",
       "      <td>0.868360</td>\n",
       "      <td>0.467757</td>\n",
       "      <td>0.311422</td>\n",
       "      <td>0.029293</td>\n",
       "      <td>4.804201</td>\n",
       "      <td>0.431877</td>\n",
       "      <td>29.240961</td>\n",
       "      <td>144.197032</td>\n",
       "      <td>4.485309</td>\n",
       "      <td>3.933486</td>\n",
       "      <td>1.849237</td>\n",
       "      <td>1.713615</td>\n",
       "    </tr>\n",
       "    <tr>\n",
       "      <th>2</th>\n",
       "      <td>2</td>\n",
       "      <td>0.492298</td>\n",
       "      <td>0.020646</td>\n",
       "      <td>0.460995</td>\n",
       "      <td>0.083144</td>\n",
       "      <td>1.003028</td>\n",
       "      <td>2.369643</td>\n",
       "      <td>0.221313</td>\n",
       "      <td>28.422349</td>\n",
       "      <td>135.619291</td>\n",
       "      <td>2.209173</td>\n",
       "      <td>2.807572</td>\n",
       "      <td>1.662197</td>\n",
       "      <td>1.473786</td>\n",
       "    </tr>\n",
       "    <tr>\n",
       "      <th>3</th>\n",
       "      <td>3</td>\n",
       "      <td>0.482600</td>\n",
       "      <td>1.003688</td>\n",
       "      <td>0.348396</td>\n",
       "      <td>0.244543</td>\n",
       "      <td>1.003028</td>\n",
       "      <td>1.968867</td>\n",
       "      <td>0.346980</td>\n",
       "      <td>28.113452</td>\n",
       "      <td>131.723320</td>\n",
       "      <td>1.871185</td>\n",
       "      <td>2.436597</td>\n",
       "      <td>1.249401</td>\n",
       "      <td>1.008794</td>\n",
       "    </tr>\n",
       "    <tr>\n",
       "      <th>4</th>\n",
       "      <td>4</td>\n",
       "      <td>0.556921</td>\n",
       "      <td>0.980227</td>\n",
       "      <td>0.354445</td>\n",
       "      <td>0.234906</td>\n",
       "      <td>1.001866</td>\n",
       "      <td>2.686622</td>\n",
       "      <td>0.479748</td>\n",
       "      <td>30.059502</td>\n",
       "      <td>162.058819</td>\n",
       "      <td>2.470447</td>\n",
       "      <td>4.917110</td>\n",
       "      <td>2.855527</td>\n",
       "      <td>2.851126</td>\n",
       "    </tr>\n",
       "  </tbody>\n",
       "</table>\n",
       "</div>"
      ],
      "text/plain": [
       "   centroid    gender  near_location   partner  promo_friends     phone  \\\n",
       "0         0  0.500718       0.963743  0.780538       0.580927  1.003028   \n",
       "1         1  0.519329       0.868360  0.467757       0.311422  0.029293   \n",
       "2         2  0.492298       0.020646  0.460995       0.083144  1.003028   \n",
       "3         3  0.482600       1.003688  0.348396       0.244543  1.003028   \n",
       "4         4  0.556921       0.980227  0.354445       0.234906  1.001866   \n",
       "\n",
       "   contract_period  group_visits        age  avg_additional_charges_total  \\\n",
       "0        10.911194      0.549256  29.921250                    161.215020   \n",
       "1         4.804201      0.431877  29.240961                    144.197032   \n",
       "2         2.369643      0.221313  28.422349                    135.619291   \n",
       "3         1.968867      0.346980  28.113452                    131.723320   \n",
       "4         2.686622      0.479748  30.059502                    162.058819   \n",
       "\n",
       "   month_to_end_contract  lifetime  avg_class_frequency_total  \\\n",
       "0               9.965543  4.753294                   1.984189   \n",
       "1               4.485309  3.933486                   1.849237   \n",
       "2               2.209173  2.807572                   1.662197   \n",
       "3               1.871185  2.436597                   1.249401   \n",
       "4               2.470447  4.917110                   2.855527   \n",
       "\n",
       "   avg_class_frequency_current_month  \n",
       "0                           1.972748  \n",
       "1                           1.713615  \n",
       "2                           1.473786  \n",
       "3                           1.008794  \n",
       "4                           2.851126  "
      ]
     },
     "execution_count": 59,
     "metadata": {},
     "output_type": "execute_result"
    }
   ],
   "source": [
    "centroids_df.rename(columns={\"index\": \"centroid\"}, inplace=True)\n",
    "centroids_df"
   ]
  },
  {
   "cell_type": "code",
   "execution_count": 60,
   "id": "0faf4e08",
   "metadata": {},
   "outputs": [],
   "source": [
    "features = [col for col in gym_data.select_dtypes(include=np.number).columns.tolist() if col != \"churn\"]"
   ]
  },
  {
   "cell_type": "code",
   "execution_count": 61,
   "id": "64d52e03",
   "metadata": {},
   "outputs": [],
   "source": [
    "centroids_df_melt = centroids_df.melt(\n",
    "    id_vars=\"centroid\",\n",
    "    value_vars=features,\n",
    "    var_name=\"feature\",\n",
    "    value_name=\"feature_value\"\n",
    ")"
   ]
  },
  {
   "cell_type": "code",
   "execution_count": 62,
   "id": "f9722be5",
   "metadata": {
    "scrolled": true
   },
   "outputs": [
    {
     "data": {
      "image/png": "[encoded data removed]",
      "text/plain": [
       "<Figure size 1296x1080 with 1 Axes>"
      ]
     },
     "metadata": {
      "needs_background": "light"
     },
     "output_type": "display_data"
    }
   ],
   "source": [
    "plt.figure(figsize=(18, 15))\n",
    "my_plot=sns.barplot(data=centroids_df_melt, x=\"feature\", y=\"feature_value\", hue=\"centroid\", \n",
    "                    ax=plt.gca())\n",
    "my_plot.set_xticklabels(my_plot.get_xticklabels(), rotation=90, ha='center', minor=False)\n",
    "plt.xlabel('feature', fontsize=18);\n",
    "plt.ylabel('feature_value', fontsize=18)\n",
    "plt.tick_params(axis='both', which='major', labelsize=14)\n",
    "plt.show()"
   ]
  },
  {
   "cell_type": "markdown",
   "id": "0b75c156",
   "metadata": {},
   "source": [
    "Calcula la tasa de cancelación para cada clúster. ¿Difieren en términos de tasa de cancelación? ¿Qué grupos son propensos a irse y cuáles son leales?"
   ]
  },
  {
   "cell_type": "code",
   "execution_count": 63,
   "id": "e51327fe",
   "metadata": {},
   "outputs": [],
   "source": [
    "gym_data_no_churn['churn']=y_test.reset_index(drop=True)"
   ]
  },
  {
   "cell_type": "code",
   "execution_count": 64,
   "id": "f1b625a9",
   "metadata": {},
   "outputs": [
    {
     "data": {
      "text/plain": [
       "cluster\n",
       "2    0.325581\n",
       "3    0.251908\n",
       "0    0.244898\n",
       "4    0.224852\n",
       "1    0.206897\n",
       "Name: churn, dtype: float64"
      ]
     },
     "execution_count": 64,
     "metadata": {},
     "output_type": "execute_result"
    }
   ],
   "source": [
    "gym_data_no_churn.groupby('cluster')['churn'].mean().sort_values(ascending=False)"
   ]
  },
  {
   "cell_type": "markdown",
   "id": "006b33c6",
   "metadata": {},
   "source": [
    "Se observa que la tasa promedio de cancelacion es del 32,6% para el grupo 2, seguido por la del grupo 3 con el 25.2%"
   ]
  },
  {
   "cell_type": "code",
   "execution_count": null,
   "id": "00d0995c",
   "metadata": {
    "scrolled": false
   },
   "outputs": [
    {
     "data": {
      "image/png": "[encoded data removed]",
      "text/plain": [
       "<Figure size 1296x360 with 5 Axes>"
      ]
     },
     "metadata": {
      "needs_background": "light"
     },
     "output_type": "display_data"
    },
    {
     "data": {
      "image/png": "[encoded data removed]",
      "text/plain": [
       "<Figure size 1296x360 with 5 Axes>"
      ]
     },
     "metadata": {
      "needs_background": "light"
     },
     "output_type": "display_data"
    },
    {
     "data": {
      "image/png": "[encoded data removed]",
      "text/plain": [
       "<Figure size 1296x360 with 5 Axes>"
      ]
     },
     "metadata": {
      "needs_background": "light"
     },
     "output_type": "display_data"
    },
    {
     "data": {
      "image/png": "[encoded data removed]",
      "text/plain": [
       "<Figure size 1296x360 with 5 Axes>"
      ]
     },
     "metadata": {
      "needs_background": "light"
     },
     "output_type": "display_data"
    },
    {
     "data": {
      "image/png": "[encoded data removed]",
      "text/plain": [
       "<Figure size 1296x360 with 5 Axes>"
      ]
     },
     "metadata": {
      "needs_background": "light"
     },
     "output_type": "display_data"
    },
    {
     "data": {
      "image/png": "[encoded data removed]",
      "text/plain": [
       "<Figure size 1296x360 with 5 Axes>"
      ]
     },
     "metadata": {
      "needs_background": "light"
     },
     "output_type": "display_data"
    },
    {
     "data": {
      "image/png": "[encoded data removed]",
      "text/plain": [
       "<Figure size 1296x360 with 5 Axes>"
      ]
     },
     "metadata": {
      "needs_background": "light"
     },
     "output_type": "display_data"
    },
    {
     "data": {
      "image/png": "[encoded data removed]",
      "text/plain": [
       "<Figure size 1296x360 with 5 Axes>"
      ]
     },
     "metadata": {
      "needs_background": "light"
     },
     "output_type": "display_data"
    },
    {
     "data": {
      "image/png": "[encoded data removed]",
      "text/plain": [
       "<Figure size 1296x360 with 5 Axes>"
      ]
     },
     "metadata": {
      "needs_background": "light"
     },
     "output_type": "display_data"
    }
   ],
   "source": [
    "for col in features:\n",
    "  fig, ax = plt.subplots(1, 5, sharey=True, sharex=True, figsize=(18,5))\n",
    "  sns.histplot(gym_data_no_churn[gym_data_no_churn[\"cluster\"] == 0][col], color=\"blue\", label=\"group-0\", ax=ax[0])\n",
    "  sns.histplot(gym_data_no_churn[gym_data_no_churn[\"cluster\"] == 1][col], color=\"green\", label=\"group-1\", ax=ax[1])\n",
    "  sns.histplot(gym_data_no_churn[gym_data_no_churn[\"cluster\"] == 2][col], color=\"orange\", label=\"group-2\", ax=ax[2])\n",
    "  sns.histplot(gym_data_no_churn[gym_data_no_churn[\"cluster\"] == 3][col], color=\"purple\", label=\"group-3\", ax=ax[3])\n",
    "  sns.histplot(gym_data_no_churn[gym_data_no_churn[\"cluster\"] == 4][col], color=\"red\", label=\"group-4\", ax=ax[4])\n",
    "  plt.legend()\n",
    "  plt.show()"
   ]
  },
  {
   "cell_type": "markdown",
   "id": "410dd038",
   "metadata": {},
   "source": [
    "Conclusiones y Recomendaciones\n",
    "\n",
    "* La salida o retención por genero no es tan relevante ya que son muy parejos los número para ambos en para los dos casos\n",
    "\n",
    "* Hay una tendencia a que medida que aumenta la edad mayor número de personas permanecen en el gimnasio, mientras que a edades más tempranas la fuga de clientes tiene mayor frecuencia. Después de los 26 años la tasa de abandono es 0%. Se sugiere lanzar campañas para captar clientes a partir de esa edad.\n",
    "\n",
    "* De los usuarios del gimnasio se observa que más del 50% utilizó patrocinante, de los usuarios que cancelaron casi el 35% utilizó un patrocinador\n",
    "\n",
    "* Se puede observar que más del 70% de los usuarios que no participaron en sesiones grupales cancelaron su suscripción. Se sugiere lanzar ofertas para mejorar la retención o capar clientes con esta modalidad.\n",
    "\n",
    "* Mientras mayor es el periodo de contrato el número de usuarios que permanece en el gimnasio es mayor, vemos que los contratos a 12 meses se matuvieron los usuarios por arriba del 90%.\n",
    "\n",
    "* El tiempo de vida de los usuarios es mayor a medida que los usuarios pasan más meses en el gimnasio. Hay un 80% de los usuarios cancelaron la suscripción sin asistir al mismo.\n",
    "\n",
    "* Se recomienda dar insentivos para que los clientes tomen suscripciones mayores a 6 meses, ya que después de este mes la permanecia es de casi el 100%.\n",
    "\n",
    "* El modelo de Regresión Logistica tuvo mejor comportamiento que el de modelo de Random Forest Classifier.\n",
    "\n",
    "* El grupo 2 es el grupo que tiene la tasa más alta de cancelación con el 32,6%\n",
    "\n"
   ]
  }
 ],
 "metadata": {
  "kernelspec": {
   "display_name": "Python 3 (ipykernel)",
   "language": "python",
   "name": "python3"
  },
  "language_info": {
   "codemirror_mode": {
    "name": "ipython",
    "version": 3
   },
   "file_extension": ".py",
   "mimetype": "text/x-python",
   "name": "python",
   "nbconvert_exporter": "python",
   "pygments_lexer": "ipython3",
   "version": "3.9.5"
  },
  "toc": {
   "base_numbering": 1,
   "nav_menu": {},
   "number_sections": true,
   "sideBar": true,
   "skip_h1_title": true,
   "title_cell": "Table of Contents",
   "title_sidebar": "Contents",
   "toc_cell": false,
   "toc_position": {},
   "toc_section_display": true,
   "toc_window_display": false
  }
 },
 "nbformat": 4,
 "nbformat_minor": 5
}
